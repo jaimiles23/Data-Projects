{
 "cells": [
  {
   "cell_type": "markdown",
   "metadata": {},
   "source": [
    "**Data Engineer exercises**\n",
    "- Date: 9/16/2020\n",
    "- Purpose: Sample ETL exercise with constituent data.\n"
   ]
  },
  {
   "cell_type": "markdown",
   "metadata": {},
   "source": [
    "<h1 id=\"tocheading\">Table of Contents</h1>\n",
    "<div id=\"toc\"></div>"
   ]
  },
  {
   "cell_type": "markdown",
   "metadata": {},
   "source": [
    "## Auxiliary code to structure notebook"
   ]
  },
  {
   "cell_type": "markdown",
   "metadata": {},
   "source": [
    "HTML code to left align markdown tables"
   ]
  },
  {
   "cell_type": "code",
   "execution_count": 1,
   "metadata": {},
   "outputs": [
    {
     "data": {
      "text/html": [
       "<style>\n",
       "table {float:left}\n",
       "</style>\n"
      ],
      "text/plain": [
       "<IPython.core.display.HTML object>"
      ]
     },
     "metadata": {},
     "output_type": "display_data"
    }
   ],
   "source": [
    "%%html\n",
    "<style>\n",
    "table {float:left}\n",
    "</style>"
   ]
  },
  {
   "cell_type": "markdown",
   "metadata": {},
   "source": [
    "javascript code to fill Table of Contents"
   ]
  },
  {
   "cell_type": "code",
   "execution_count": 2,
   "metadata": {},
   "outputs": [
    {
     "data": {
      "application/javascript": [
       "$.getScript('https://kmahelona.github.io/ipython_notebook_goodies/ipython_notebook_toc.js')\n"
      ],
      "text/plain": [
       "<IPython.core.display.Javascript object>"
      ]
     },
     "metadata": {},
     "output_type": "display_data"
    }
   ],
   "source": [
    "%%javascript\n",
    "$.getScript('https://kmahelona.github.io/ipython_notebook_goodies/ipython_notebook_toc.js')"
   ]
  },
  {
   "cell_type": "markdown",
   "metadata": {},
   "source": [
    "## Question 1\n",
    "**Produce a “people” file with the following schema. Save it as a CSV with a header line to the working directory.**\n",
    "\n",
    "    \n",
    "| Column | Type | Description |\n",
    "| :-- | :-- | :-- |\n",
    "|email | string | Primary email address | \n",
    "|code | string | Source code |\n",
    "|is_unsub | boolean | If primary email address is unsubscribed |\n",
    "|created_dt | datetime | Person creation datetime |\n",
    "|updated_dt | datetime | Person updated datetime |\n",
    "\n"
   ]
  },
  {
   "cell_type": "markdown",
   "metadata": {},
   "source": [
    "## Question 2\n",
    "**Use the output of #1 to produce an “acquisition_facts” file with the following schema that aggregates stats about when people in the dataset were acquired. Save it to the working directory.**\n",
    "\n",
    "| Column | Type | Description | \n",
    "| :-- | :-- | :-- |\n",
    "| acquisition_date | date | Calendar date of acquisition | \n",
    "| acquisitions | int | Number of constituents acquired on acquisition date |"
   ]
  },
  {
   "cell_type": "markdown",
   "metadata": {},
   "source": [
    "# Method notes\n",
    "This section contains notes on the methodologies used in the ETL."
   ]
  },
  {
   "cell_type": "markdown",
   "metadata": {},
   "source": [
    "## Data frame notes\n",
    "\n",
    "The following dataframes are used to reference the respective Constituent data.\n",
    "\n",
    "1. `df_info` : [Constituent Information](https://als-hiring.s3.amazonaws.com/fake_data/2020-07-01_17%3A11%3A00/cons.csv)\n",
    "2. `df_email` : [Constituent Email Addresses](https://als-hiring.s3.amazonaws.com/fake_data/2020-07-01_17%3A11%3A00/cons_email.csv)\n",
    "3. `df_subs` : [Constituent Subscription Status](https://als-hiring.s3.amazonaws.com/fake_data/2020-07-01_17%3A11%3A00/cons_email_chapter_subscription.csv)\n"
   ]
  },
  {
   "cell_type": "markdown",
   "metadata": {},
   "source": [
    "## Data sources\n",
    "This section details the data sources for the different output files generated."
   ]
  },
  {
   "cell_type": "markdown",
   "metadata": {},
   "source": [
    "### People file data source\n",
    "\n",
    "This section details which dataframe is used to gather the data output in the persons file:\n",
    "\n",
    "| Column | Type | Description | Dataframe source | \n",
    "| :-- | :-- | :-- | :-- |\n",
    "|email | string | Primary email address | `df_emails.email` |\n",
    "|code | string | Source code | `df_info.source` |\n",
    "|is_unsub | boolean | If primary email address is unsubscribed | `df_subs.is_unsub` |\n",
    "|created_dt | datetime | Person creation datetime | `df_info.create_dt` |\n",
    "|updated_dt | datetime | Person updated datetime | `df_info.modified_dt` |\n",
    "\n"
   ]
  },
  {
   "cell_type": "markdown",
   "metadata": {},
   "source": [
    "### Acquisition facts data source\n",
    "Data source for the acquisition data file\n",
    "\n",
    "| Column | Type | Description | Data source |\n",
    "| :-- | :-- | :-- | :-- |\n",
    "| acquisition_date | date | Calendar date of acquisition | Date extracted from `created_dt` from people file | \n",
    "| acquisitions | int | Number of constituents acquired on acquisition date | Count() extracted from number of emails on `created_dt` |"
   ]
  },
  {
   "cell_type": "markdown",
   "metadata": {},
   "source": [
    "## Keep relevant columns\n",
    "To increase notebook performance and readability, I only keep columns that are relevant to the ETL exercise.\n",
    "\n",
    "Based on the questions outlined in this exercise and the columns identified in [Identify relevant information & entity relationships](#identify-relevant-information-&-entity-relationships), I am interested in the following columns for each dataframe:\n",
    "\n",
    "\n",
    "**df_info:**\n",
    "- `cons_id`: primary key, relates to other columns\n",
    "- `source`: code string data for q1 table\n",
    "- `create_dt`: created_dt datetime data for q1 table\n",
    "- `modified_dt`: updated_dt datetime for q1 table\n",
    "\n",
    "**df_emails:**\n",
    "- `cons_email_id`: primary key\n",
    "- `cons_id`: foreign key used to link to df_info\n",
    "- `email`: email string data for q1 table\n",
    "\n",
    "**df_subs:**\n",
    "- `cons_email_chapter_subscription_id`: primary key\n",
    "- `cons_email_id`: foreign key to link to df_emails\n",
    "- `isunsub`: is_unsub boolean data for q1 table"
   ]
  },
  {
   "cell_type": "markdown",
   "metadata": {},
   "source": [
    "## Relational joins\n",
    "The three data files contain relational data with contain primary and foreign keys to connect information about users. Relational joins are required to retrieve the information for the people file.\n",
    "\n",
    "I use `df_emails` as the base data file because it contains the most user records.\n",
    "Left joins to the df_emails table are made to preserve email addresses. This is based on the assumption that email addresses are the variable of interest.\n",
    "\n",
    "Given df_emails, the following left joins can be made:\n",
    "- `df_emails.cons_email_id` = `df_subs.cons_email_id`\n",
    "- `df_emails.cons_id` = `df_info.cons_id`\n",
    "\n",
    "*NOTE*: Because I used a left_join, it's possible that there will be NULL values in merged columns."
   ]
  },
  {
   "cell_type": "markdown",
   "metadata": {},
   "source": [
    "## Handling missing data\n",
    "The script handles missing data based on the intent of the data. \n",
    "\n",
    "Questions 1 and 2 are interested in the following data:\n",
    "1. `email`\n",
    "1. `code`\n",
    "1. `is_unsub`\n",
    "1. `created_dt`\n",
    "1. `updated_dt`\n",
    "\n",
    "`email` is the unique identifier for each row and used to count constituents 'acquired'. Additionally, I use the variable `create_dt` from the constituent information file to record acquisition dates. Because `email` is a primary key and `create_dt` is used to create the acquisition_facts.csv, I will drop records with NULL values in these fields.\n",
    "\n",
    "The folloiwng data: `code`, `is_unsub`, and `updated_dt` are descriptive information about the constituent. This data is not necessary for the acquisition_facts output for question 2. As such, missing data in these columns will be filled witht he string \"unknown\"."
   ]
  },
  {
   "cell_type": "markdown",
   "metadata": {},
   "source": [
    "## Duplicate values\n",
    "Because `email` is the primary key used in the csv outputs, I remove all duplicates."
   ]
  },
  {
   "cell_type": "markdown",
   "metadata": {},
   "source": [
    "## Duplicate foreign keys\n",
    "In exploratory analysis, I discovered that there are duplicate foriegn keys in `df_emails` and `df_subs`.\n",
    "\n",
    "### df_emails.cons_id\n",
    "First, there are duplicate foreign keys in `df_emails.cons_id`. It *is* a possibility that `df_emails.cons_id` to `df_info.cons_id` is a one to many relationship, although unlikely due to there being two datetimes values in each row. \n",
    "\n",
    "**Note**: Because 86% of `df_emails` contains duplicate foreign keys, I opt to keep the the duplicates of `df_emails.cons_id` rather than lose valuable data. **This decision will affect the acquisition_facts.csv output**. In the case that the duplicate `df_emails.cons_id` foreign keys _should_ be removed, I left a commented function to remove the duplicate keys.\n",
    "\n",
    "\n",
    "### df_subs.cons_email_ids\n",
    "Additionally, there are duplicate foreign keys in `df_subs.cons_email_ids`. For this ETL, I remove the rows with duplicate `cons_email_ids` foreign keys. I remove the duplicate keys to avoid erroneously providing incorrect information on the `inunsub` status of Constituents. Sending emails to unsubscribed Constituents may run into legal issues under the CAN-SPAM Act. \n",
    "\n",
    "*Note*: further analysis may explore if rows with duplicate `cons_email_id` contain identical information (i.e., `isunsub`). If so, analysis can keep one instance of each duplicate."
   ]
  },
  {
   "cell_type": "markdown",
   "metadata": {},
   "source": [
    "# Libraries"
   ]
  },
  {
   "cell_type": "code",
   "execution_count": 3,
   "metadata": {},
   "outputs": [
    {
     "name": "stdout",
     "output_type": "stream",
     "text": [
      "\n",
      "\n",
      "##########\n",
      "# Loaded libraries\n",
      "##########\n"
     ]
    }
   ],
   "source": [
    "import os\n",
    "import re\n",
    "from typing import List, Tuple, Union\n",
    "\n",
    "## Uncomment below code to install 3rd party libraries\n",
    "# missingno used to identify missing data\n",
    "# pywrangle is an open-source library I am developing for data cleaning\n",
    "# ! pip install pandas\n",
    "# ! pip install matplotlib\n",
    "# ! pip install numpy\n",
    "# ! pip install seaborn\n",
    "# ! pip install missingno\n",
    "# ! pip install pywrangle  \n",
    "\n",
    "import pandas as pd\n",
    "pd.plotting.register_matplotlib_converters()\n",
    "pd.options.mode.chained_assignment = None  # default='warn'  Disables false positive warnings\n",
    "import matplotlib.pyplot as plt\n",
    "import numpy as np\n",
    "import seaborn as sns\n",
    "\n",
    "import missingno as msno\n",
    "import pywrangle as pw\n",
    "\n",
    "header = '#' * 10\n",
    "print('\\n', header, \"# Loaded libraries\", header, sep = '\\n')"
   ]
  },
  {
   "cell_type": "markdown",
   "metadata": {},
   "source": [
    "# Import data"
   ]
  },
  {
   "cell_type": "markdown",
   "metadata": {},
   "source": [
    "The following 3 data sources are used:\n",
    "\n",
    "1. [Constituent Information](https://als-hiring.s3.amazonaws.com/fake_data/2020-07-01_17%3A11%3A00/cons.csv)\n",
    "2. [Constituent Email Addresses](https://als-hiring.s3.amazonaws.com/fake_data/2020-07-01_17%3A11%3A00/cons_email.csv)\n",
    "3. [Constituent Subscription Status](https://als-hiring.s3.amazonaws.com/fake_data/2020-07-01_17%3A11%3A00/cons_email_chapter_subscription.csv)\n",
    "\n",
    "*Note*: Boolean columns (including is_primary) in all of these datasets are 1/0 numeric values. 1 means True, 0 means False."
   ]
  },
  {
   "cell_type": "code",
   "execution_count": 4,
   "metadata": {},
   "outputs": [],
   "source": [
    "## Urls to download csvs\n",
    "url_info_csv = 'https://als-hiring.s3.amazonaws.com/fake_data/2020-07-01_17%3A11%3A00/cons.csv'\n",
    "url_email_csv = 'https://als-hiring.s3.amazonaws.com/fake_data/2020-07-01_17%3A11%3A00/cons_email.csv'\n",
    "url_sub_csv = 'https://als-hiring.s3.amazonaws.com/fake_data/2020-07-01_17%3A11%3A00/cons_email_chapter_subscription.csv'\n",
    "\n",
    "url_csvs = (\n",
    "    url_info_csv,\n",
    "    url_email_csv,\n",
    "    url_sub_csv\n",
    ")\n",
    "\n",
    "## Csv file names\n",
    "csv_datafiles = (\n",
    "    'cons.csv',      ## info\n",
    "    'cons_email.csv',                      \n",
    "    'cons_email_chapter_subscription.csv'   \n",
    ")"
   ]
  },
  {
   "cell_type": "code",
   "execution_count": 5,
   "metadata": {},
   "outputs": [],
   "source": [
    "def load_df(filename_csv: str, url_csv: str) -> object:\n",
    "    \"\"\"Auxiliary function to load csvs into dataframe.\n",
    "    \n",
    "    Checks if csv exists in working directory. \n",
    "    If not, downloads csv from url.\n",
    "    \"\"\"\n",
    "    file_path = f'./{filename_csv}'\n",
    "    \n",
    "    print('\\n', '#' * 5, ' ',  filename_csv, sep = '')\n",
    "    if os.path.isfile(file_path):\n",
    "        print(\"Reading from working directory.\")\n",
    "        df = pd.read_csv(filename_csv)\n",
    "    \n",
    "    else:\n",
    "        print(\"Loading data from url. This is a large file, so please be patient.\")\n",
    "        df = pd.read_csv(url_csv)\n",
    "        \n",
    "        print(f\"\\tSaving {filename_csv} to working directory.\")\n",
    "        df.to_csv(path_or_buf = filename_csv)\n",
    "    \n",
    "    print(f\"\"\"Loaded df for {filename_csv}:\n",
    "    - {len(df.columns)} columns\n",
    "    - {len(df)} rows\"\"\")\n",
    "    return df\n"
   ]
  },
  {
   "cell_type": "code",
   "execution_count": 6,
   "metadata": {},
   "outputs": [
    {
     "name": "stdout",
     "output_type": "stream",
     "text": [
      "\n",
      "##### cons.csv\n",
      "Reading from working directory.\n",
      "Loaded df for cons.csv:\n",
      "    - 30 columns\n",
      "    - 700000 rows\n",
      "\n",
      "##### cons_email.csv\n",
      "Loading data from url. This is a large file, so please be patient.\n",
      "\tSaving cons_email.csv to working directory.\n",
      "Loaded df for cons_email.csv:\n",
      "    - 16 columns\n",
      "    - 1400000 rows\n",
      "\n",
      "##### cons_email_chapter_subscription.csv\n",
      "Loading data from url. This is a large file, so please be patient.\n",
      "\tSaving cons_email_chapter_subscription.csv to working directory.\n",
      "Loaded df for cons_email_chapter_subscription.csv:\n",
      "    - 6 columns\n",
      "    - 350000 rows\n",
      "\n",
      "Loaded all csv data.\n"
     ]
    }
   ],
   "source": [
    "## Load all csvs\n",
    "\n",
    "df_info, df_emails, df_subs = (\n",
    "    load_df(csv_datafiles[i], url_csvs[i]) for i in range(len(csv_datafiles))\n",
    ")\n",
    "\n",
    "print(\"\\nLoaded all csv data.\")"
   ]
  },
  {
   "cell_type": "markdown",
   "metadata": {},
   "source": [
    "# Data cleaning"
   ]
  },
  {
   "cell_type": "markdown",
   "metadata": {},
   "source": [
    "## Face check data\n",
    "This section does a face check of the data to look at the contents of each dataframe.\n"
   ]
  },
  {
   "cell_type": "code",
   "execution_count": 7,
   "metadata": {},
   "outputs": [
    {
     "data": {
      "text/html": [
       "<div>\n",
       "<style scoped>\n",
       "    .dataframe tbody tr th:only-of-type {\n",
       "        vertical-align: middle;\n",
       "    }\n",
       "\n",
       "    .dataframe tbody tr th {\n",
       "        vertical-align: top;\n",
       "    }\n",
       "\n",
       "    .dataframe thead th {\n",
       "        text-align: right;\n",
       "    }\n",
       "</style>\n",
       "<table border=\"1\" class=\"dataframe\">\n",
       "  <thead>\n",
       "    <tr style=\"text-align: right;\">\n",
       "      <th></th>\n",
       "      <th>Unnamed: 0</th>\n",
       "      <th>cons_id</th>\n",
       "      <th>prefix</th>\n",
       "      <th>firstname</th>\n",
       "      <th>middlename</th>\n",
       "      <th>lastname</th>\n",
       "      <th>suffix</th>\n",
       "      <th>salutation</th>\n",
       "      <th>gender</th>\n",
       "      <th>birth_dt</th>\n",
       "      <th>...</th>\n",
       "      <th>change_password_next_login</th>\n",
       "      <th>consent_type_id</th>\n",
       "      <th>create_dt</th>\n",
       "      <th>create_app</th>\n",
       "      <th>create_user</th>\n",
       "      <th>modified_dt</th>\n",
       "      <th>modified_app</th>\n",
       "      <th>modified_user</th>\n",
       "      <th>status</th>\n",
       "      <th>note</th>\n",
       "    </tr>\n",
       "  </thead>\n",
       "  <tbody>\n",
       "    <tr>\n",
       "      <th>0</th>\n",
       "      <td>0</td>\n",
       "      <td>1</td>\n",
       "      <td>NaN</td>\n",
       "      <td>NaN</td>\n",
       "      <td>Lee</td>\n",
       "      <td>NaN</td>\n",
       "      <td>MD</td>\n",
       "      <td>NaN</td>\n",
       "      <td>E</td>\n",
       "      <td>NaN</td>\n",
       "      <td>...</td>\n",
       "      <td>0</td>\n",
       "      <td>5958</td>\n",
       "      <td>Fri, 1983-08-26 06:02:03</td>\n",
       "      <td>1484</td>\n",
       "      <td>6162</td>\n",
       "      <td>Sun, 2015-12-27 09:28:02</td>\n",
       "      <td>4022</td>\n",
       "      <td>6349</td>\n",
       "      <td>1</td>\n",
       "      <td>NaN</td>\n",
       "    </tr>\n",
       "    <tr>\n",
       "      <th>1</th>\n",
       "      <td>1</td>\n",
       "      <td>2</td>\n",
       "      <td>NaN</td>\n",
       "      <td>NaN</td>\n",
       "      <td>NaN</td>\n",
       "      <td>NaN</td>\n",
       "      <td>II</td>\n",
       "      <td>boFqBKgLlSgEZsFrgCZd</td>\n",
       "      <td>E</td>\n",
       "      <td>Mon, 2004-11-15</td>\n",
       "      <td>...</td>\n",
       "      <td>1</td>\n",
       "      <td>4236</td>\n",
       "      <td>Mon, 1979-03-05 21:08:54</td>\n",
       "      <td>4176</td>\n",
       "      <td>5476</td>\n",
       "      <td>Tue, 1989-06-20 13:28:57</td>\n",
       "      <td>9010</td>\n",
       "      <td>5698</td>\n",
       "      <td>1</td>\n",
       "      <td>NaN</td>\n",
       "    </tr>\n",
       "    <tr>\n",
       "      <th>2</th>\n",
       "      <td>2</td>\n",
       "      <td>3</td>\n",
       "      <td>NaN</td>\n",
       "      <td>NaN</td>\n",
       "      <td>David</td>\n",
       "      <td>King</td>\n",
       "      <td>NaN</td>\n",
       "      <td>NaN</td>\n",
       "      <td>D</td>\n",
       "      <td>Fri, 1994-04-08</td>\n",
       "      <td>...</td>\n",
       "      <td>1</td>\n",
       "      <td>1263</td>\n",
       "      <td>Fri, 2008-08-22 19:20:28</td>\n",
       "      <td>4702</td>\n",
       "      <td>8239</td>\n",
       "      <td>Fri, 2020-06-05 18:13:57</td>\n",
       "      <td>8837</td>\n",
       "      <td>1175</td>\n",
       "      <td>1</td>\n",
       "      <td>NaN</td>\n",
       "    </tr>\n",
       "    <tr>\n",
       "      <th>3</th>\n",
       "      <td>3</td>\n",
       "      <td>4</td>\n",
       "      <td>Ms.</td>\n",
       "      <td>Mark</td>\n",
       "      <td>Gregg</td>\n",
       "      <td>NaN</td>\n",
       "      <td>NaN</td>\n",
       "      <td>NaN</td>\n",
       "      <td>J</td>\n",
       "      <td>NaN</td>\n",
       "      <td>...</td>\n",
       "      <td>0</td>\n",
       "      <td>949</td>\n",
       "      <td>Sun, 1984-04-29 11:18:18</td>\n",
       "      <td>7096</td>\n",
       "      <td>7875</td>\n",
       "      <td>Tue, 2012-01-31 07:26:35</td>\n",
       "      <td>7529</td>\n",
       "      <td>3984</td>\n",
       "      <td>1</td>\n",
       "      <td>NaN</td>\n",
       "    </tr>\n",
       "    <tr>\n",
       "      <th>4</th>\n",
       "      <td>4</td>\n",
       "      <td>5</td>\n",
       "      <td>NaN</td>\n",
       "      <td>NaN</td>\n",
       "      <td>Logan</td>\n",
       "      <td>NaN</td>\n",
       "      <td>DDS</td>\n",
       "      <td>ArvPJuEozHPaqbirovMi</td>\n",
       "      <td>D</td>\n",
       "      <td>Sun, 2008-08-10</td>\n",
       "      <td>...</td>\n",
       "      <td>0</td>\n",
       "      <td>7126</td>\n",
       "      <td>Thu, 2007-07-19 18:28:09</td>\n",
       "      <td>706</td>\n",
       "      <td>5727</td>\n",
       "      <td>Tue, 1971-04-27 06:53:53</td>\n",
       "      <td>9356</td>\n",
       "      <td>6062</td>\n",
       "      <td>1</td>\n",
       "      <td>NaN</td>\n",
       "    </tr>\n",
       "  </tbody>\n",
       "</table>\n",
       "<p>5 rows × 30 columns</p>\n",
       "</div>"
      ],
      "text/plain": [
       "   Unnamed: 0  cons_id prefix firstname middlename lastname suffix  \\\n",
       "0           0        1    NaN       NaN        Lee      NaN     MD   \n",
       "1           1        2    NaN       NaN        NaN      NaN     II   \n",
       "2           2        3    NaN       NaN      David     King    NaN   \n",
       "3           3        4    Ms.      Mark      Gregg      NaN    NaN   \n",
       "4           4        5    NaN       NaN      Logan      NaN    DDS   \n",
       "\n",
       "             salutation gender         birth_dt  ...  \\\n",
       "0                   NaN      E              NaN  ...   \n",
       "1  boFqBKgLlSgEZsFrgCZd      E  Mon, 2004-11-15  ...   \n",
       "2                   NaN      D  Fri, 1994-04-08  ...   \n",
       "3                   NaN      J              NaN  ...   \n",
       "4  ArvPJuEozHPaqbirovMi      D  Sun, 2008-08-10  ...   \n",
       "\n",
       "  change_password_next_login consent_type_id                 create_dt  \\\n",
       "0                          0            5958  Fri, 1983-08-26 06:02:03   \n",
       "1                          1            4236  Mon, 1979-03-05 21:08:54   \n",
       "2                          1            1263  Fri, 2008-08-22 19:20:28   \n",
       "3                          0             949  Sun, 1984-04-29 11:18:18   \n",
       "4                          0            7126  Thu, 2007-07-19 18:28:09   \n",
       "\n",
       "   create_app create_user               modified_dt  modified_app  \\\n",
       "0        1484        6162  Sun, 2015-12-27 09:28:02          4022   \n",
       "1        4176        5476  Tue, 1989-06-20 13:28:57          9010   \n",
       "2        4702        8239  Fri, 2020-06-05 18:13:57          8837   \n",
       "3        7096        7875  Tue, 2012-01-31 07:26:35          7529   \n",
       "4         706        5727  Tue, 1971-04-27 06:53:53          9356   \n",
       "\n",
       "  modified_user  status  note  \n",
       "0          6349       1   NaN  \n",
       "1          5698       1   NaN  \n",
       "2          1175       1   NaN  \n",
       "3          3984       1   NaN  \n",
       "4          6062       1   NaN  \n",
       "\n",
       "[5 rows x 30 columns]"
      ]
     },
     "execution_count": 7,
     "metadata": {},
     "output_type": "execute_result"
    }
   ],
   "source": [
    "df_info.head()"
   ]
  },
  {
   "cell_type": "code",
   "execution_count": 8,
   "metadata": {},
   "outputs": [
    {
     "data": {
      "text/html": [
       "<div>\n",
       "<style scoped>\n",
       "    .dataframe tbody tr th:only-of-type {\n",
       "        vertical-align: middle;\n",
       "    }\n",
       "\n",
       "    .dataframe tbody tr th {\n",
       "        vertical-align: top;\n",
       "    }\n",
       "\n",
       "    .dataframe thead th {\n",
       "        text-align: right;\n",
       "    }\n",
       "</style>\n",
       "<table border=\"1\" class=\"dataframe\">\n",
       "  <thead>\n",
       "    <tr style=\"text-align: right;\">\n",
       "      <th></th>\n",
       "      <th>cons_email_id</th>\n",
       "      <th>cons_id</th>\n",
       "      <th>cons_email_type_id</th>\n",
       "      <th>is_primary</th>\n",
       "      <th>email</th>\n",
       "      <th>canonical_local_part</th>\n",
       "      <th>domain</th>\n",
       "      <th>double_validation</th>\n",
       "      <th>create_dt</th>\n",
       "      <th>create_app</th>\n",
       "      <th>create_user</th>\n",
       "      <th>modified_dt</th>\n",
       "      <th>modified_app</th>\n",
       "      <th>modified_user</th>\n",
       "      <th>status</th>\n",
       "      <th>note</th>\n",
       "    </tr>\n",
       "  </thead>\n",
       "  <tbody>\n",
       "    <tr>\n",
       "      <th>0</th>\n",
       "      <td>1</td>\n",
       "      <td>548198</td>\n",
       "      <td>3361</td>\n",
       "      <td>1</td>\n",
       "      <td>xmartinez@vincent.com</td>\n",
       "      <td>NaN</td>\n",
       "      <td>gmail.com</td>\n",
       "      <td>NaN</td>\n",
       "      <td>Wed, 1994-01-26 23:49:16</td>\n",
       "      <td>4072</td>\n",
       "      <td>9954</td>\n",
       "      <td>Sat, 2014-04-19 19:10:39</td>\n",
       "      <td>1990</td>\n",
       "      <td>7595</td>\n",
       "      <td>1</td>\n",
       "      <td>NaN</td>\n",
       "    </tr>\n",
       "    <tr>\n",
       "      <th>1</th>\n",
       "      <td>2</td>\n",
       "      <td>491137</td>\n",
       "      <td>2474</td>\n",
       "      <td>1</td>\n",
       "      <td>hmiller@haynes.biz</td>\n",
       "      <td>jqCyozTDojYuylQPTHfm</td>\n",
       "      <td>hotmail.com</td>\n",
       "      <td>NaN</td>\n",
       "      <td>Thu, 1999-12-09 06:18:27</td>\n",
       "      <td>1600</td>\n",
       "      <td>5716</td>\n",
       "      <td>Sat, 1984-07-14 05:55:27</td>\n",
       "      <td>4686</td>\n",
       "      <td>3248</td>\n",
       "      <td>1</td>\n",
       "      <td>NaN</td>\n",
       "    </tr>\n",
       "    <tr>\n",
       "      <th>2</th>\n",
       "      <td>3</td>\n",
       "      <td>413429</td>\n",
       "      <td>5175</td>\n",
       "      <td>1</td>\n",
       "      <td>aaron64@yahoo.com</td>\n",
       "      <td>FCBeBiVoqnnKDWjnllhN</td>\n",
       "      <td>yahoo.com</td>\n",
       "      <td>kRLZexQEwYIMbwFNvQxg</td>\n",
       "      <td>Wed, 1992-11-18 16:46:27</td>\n",
       "      <td>7358</td>\n",
       "      <td>2685</td>\n",
       "      <td>Sun, 1995-12-24 13:13:01</td>\n",
       "      <td>3857</td>\n",
       "      <td>7405</td>\n",
       "      <td>1</td>\n",
       "      <td>NaN</td>\n",
       "    </tr>\n",
       "    <tr>\n",
       "      <th>3</th>\n",
       "      <td>4</td>\n",
       "      <td>347346</td>\n",
       "      <td>4117</td>\n",
       "      <td>1</td>\n",
       "      <td>wyattvincent@hotmail.com</td>\n",
       "      <td>NaN</td>\n",
       "      <td>gmail.com</td>\n",
       "      <td>zSbfmlqXimGyWVBUGdQg</td>\n",
       "      <td>Sat, 1983-11-26 16:49:14</td>\n",
       "      <td>881</td>\n",
       "      <td>3444</td>\n",
       "      <td>Sun, 1975-01-19 14:32:56</td>\n",
       "      <td>8713</td>\n",
       "      <td>7713</td>\n",
       "      <td>1</td>\n",
       "      <td>NaN</td>\n",
       "    </tr>\n",
       "    <tr>\n",
       "      <th>4</th>\n",
       "      <td>5</td>\n",
       "      <td>443000</td>\n",
       "      <td>6781</td>\n",
       "      <td>1</td>\n",
       "      <td>tspencer@hotmail.com</td>\n",
       "      <td>VaQIYlKcUkIywkKKEptD</td>\n",
       "      <td>gmail.com</td>\n",
       "      <td>NaN</td>\n",
       "      <td>Wed, 2000-11-15 13:28:34</td>\n",
       "      <td>5380</td>\n",
       "      <td>5456</td>\n",
       "      <td>Sun, 1994-03-13 16:38:37</td>\n",
       "      <td>765</td>\n",
       "      <td>8618</td>\n",
       "      <td>1</td>\n",
       "      <td>NaN</td>\n",
       "    </tr>\n",
       "  </tbody>\n",
       "</table>\n",
       "</div>"
      ],
      "text/plain": [
       "   cons_email_id  cons_id  cons_email_type_id  is_primary  \\\n",
       "0              1   548198                3361           1   \n",
       "1              2   491137                2474           1   \n",
       "2              3   413429                5175           1   \n",
       "3              4   347346                4117           1   \n",
       "4              5   443000                6781           1   \n",
       "\n",
       "                      email  canonical_local_part       domain  \\\n",
       "0     xmartinez@vincent.com                   NaN    gmail.com   \n",
       "1        hmiller@haynes.biz  jqCyozTDojYuylQPTHfm  hotmail.com   \n",
       "2         aaron64@yahoo.com  FCBeBiVoqnnKDWjnllhN    yahoo.com   \n",
       "3  wyattvincent@hotmail.com                   NaN    gmail.com   \n",
       "4      tspencer@hotmail.com  VaQIYlKcUkIywkKKEptD    gmail.com   \n",
       "\n",
       "      double_validation                 create_dt  create_app  create_user  \\\n",
       "0                   NaN  Wed, 1994-01-26 23:49:16        4072         9954   \n",
       "1                   NaN  Thu, 1999-12-09 06:18:27        1600         5716   \n",
       "2  kRLZexQEwYIMbwFNvQxg  Wed, 1992-11-18 16:46:27        7358         2685   \n",
       "3  zSbfmlqXimGyWVBUGdQg  Sat, 1983-11-26 16:49:14         881         3444   \n",
       "4                   NaN  Wed, 2000-11-15 13:28:34        5380         5456   \n",
       "\n",
       "                modified_dt  modified_app  modified_user  status note  \n",
       "0  Sat, 2014-04-19 19:10:39          1990           7595       1  NaN  \n",
       "1  Sat, 1984-07-14 05:55:27          4686           3248       1  NaN  \n",
       "2  Sun, 1995-12-24 13:13:01          3857           7405       1  NaN  \n",
       "3  Sun, 1975-01-19 14:32:56          8713           7713       1  NaN  \n",
       "4  Sun, 1994-03-13 16:38:37           765           8618       1  NaN  "
      ]
     },
     "execution_count": 8,
     "metadata": {},
     "output_type": "execute_result"
    }
   ],
   "source": [
    "df_emails.head()"
   ]
  },
  {
   "cell_type": "code",
   "execution_count": 9,
   "metadata": {},
   "outputs": [
    {
     "data": {
      "text/html": [
       "<div>\n",
       "<style scoped>\n",
       "    .dataframe tbody tr th:only-of-type {\n",
       "        vertical-align: middle;\n",
       "    }\n",
       "\n",
       "    .dataframe tbody tr th {\n",
       "        vertical-align: top;\n",
       "    }\n",
       "\n",
       "    .dataframe thead th {\n",
       "        text-align: right;\n",
       "    }\n",
       "</style>\n",
       "<table border=\"1\" class=\"dataframe\">\n",
       "  <thead>\n",
       "    <tr style=\"text-align: right;\">\n",
       "      <th></th>\n",
       "      <th>cons_email_chapter_subscription_id</th>\n",
       "      <th>cons_email_id</th>\n",
       "      <th>chapter_id</th>\n",
       "      <th>isunsub</th>\n",
       "      <th>unsub_dt</th>\n",
       "      <th>modified_dt</th>\n",
       "    </tr>\n",
       "  </thead>\n",
       "  <tbody>\n",
       "    <tr>\n",
       "      <th>0</th>\n",
       "      <td>1</td>\n",
       "      <td>332188</td>\n",
       "      <td>1</td>\n",
       "      <td>1</td>\n",
       "      <td>Sat, 1971-06-12 15:38:44</td>\n",
       "      <td>Thu, 1990-06-28 10:54:20</td>\n",
       "    </tr>\n",
       "    <tr>\n",
       "      <th>1</th>\n",
       "      <td>2</td>\n",
       "      <td>536526</td>\n",
       "      <td>1</td>\n",
       "      <td>1</td>\n",
       "      <td>Wed, 2006-07-12 01:50:45</td>\n",
       "      <td>Thu, 1979-09-20 06:02:35</td>\n",
       "    </tr>\n",
       "    <tr>\n",
       "      <th>2</th>\n",
       "      <td>3</td>\n",
       "      <td>134711</td>\n",
       "      <td>1</td>\n",
       "      <td>1</td>\n",
       "      <td>Tue, 1987-01-06 13:05:15</td>\n",
       "      <td>Sun, 1974-03-03 15:11:50</td>\n",
       "    </tr>\n",
       "    <tr>\n",
       "      <th>3</th>\n",
       "      <td>4</td>\n",
       "      <td>660345</td>\n",
       "      <td>1</td>\n",
       "      <td>1</td>\n",
       "      <td>Sat, 2016-08-06 11:06:09</td>\n",
       "      <td>Wed, 1995-09-13 23:45:03</td>\n",
       "    </tr>\n",
       "    <tr>\n",
       "      <th>4</th>\n",
       "      <td>5</td>\n",
       "      <td>184268</td>\n",
       "      <td>1</td>\n",
       "      <td>1</td>\n",
       "      <td>Sun, 2000-05-28 02:20:45</td>\n",
       "      <td>Sat, 1983-12-10 08:09:58</td>\n",
       "    </tr>\n",
       "  </tbody>\n",
       "</table>\n",
       "</div>"
      ],
      "text/plain": [
       "   cons_email_chapter_subscription_id  cons_email_id  chapter_id  isunsub  \\\n",
       "0                                   1         332188           1        1   \n",
       "1                                   2         536526           1        1   \n",
       "2                                   3         134711           1        1   \n",
       "3                                   4         660345           1        1   \n",
       "4                                   5         184268           1        1   \n",
       "\n",
       "                   unsub_dt               modified_dt  \n",
       "0  Sat, 1971-06-12 15:38:44  Thu, 1990-06-28 10:54:20  \n",
       "1  Wed, 2006-07-12 01:50:45  Thu, 1979-09-20 06:02:35  \n",
       "2  Tue, 1987-01-06 13:05:15  Sun, 1974-03-03 15:11:50  \n",
       "3  Sat, 2016-08-06 11:06:09  Wed, 1995-09-13 23:45:03  \n",
       "4  Sun, 2000-05-28 02:20:45  Sat, 1983-12-10 08:09:58  "
      ]
     },
     "execution_count": 9,
     "metadata": {},
     "output_type": "execute_result"
    }
   ],
   "source": [
    "df_subs.head()"
   ]
  },
  {
   "cell_type": "markdown",
   "metadata": {},
   "source": [
    "## Identify relevant information & entity relationships\n",
    "This section looks at the schema of each dataframe, identifies relevant columns for the ETL exercise, and primary/foreign keys to connect data frame results."
   ]
  },
  {
   "cell_type": "code",
   "execution_count": 10,
   "metadata": {},
   "outputs": [
    {
     "name": "stdout",
     "output_type": "stream",
     "text": [
      "<class 'pandas.core.frame.DataFrame'>\n",
      "RangeIndex: 700000 entries, 0 to 699999\n",
      "Data columns (total 30 columns):\n",
      " #   Column                      Non-Null Count   Dtype  \n",
      "---  ------                      --------------   -----  \n",
      " 0   Unnamed: 0                  700000 non-null  int64  \n",
      " 1   cons_id                     700000 non-null  int64  \n",
      " 2   prefix                      350304 non-null  object \n",
      " 3   firstname                   350244 non-null  object \n",
      " 4   middlename                  560213 non-null  object \n",
      " 5   lastname                    349314 non-null  object \n",
      " 6   suffix                      349541 non-null  object \n",
      " 7   salutation                  350021 non-null  object \n",
      " 8   gender                      349891 non-null  object \n",
      " 9   birth_dt                    349954 non-null  object \n",
      " 10  title                       350082 non-null  object \n",
      " 11  employer                    349228 non-null  object \n",
      " 12  occupation                  350239 non-null  object \n",
      " 13  income                      350637 non-null  float64\n",
      " 14  source                      350026 non-null  object \n",
      " 15  subsource                   350315 non-null  object \n",
      " 16  userid                      700000 non-null  int64  \n",
      " 17  password                    700000 non-null  object \n",
      " 18  is_validated                700000 non-null  int64  \n",
      " 19  is_banned                   700000 non-null  int64  \n",
      " 20  change_password_next_login  700000 non-null  int64  \n",
      " 21  consent_type_id             700000 non-null  int64  \n",
      " 22  create_dt                   700000 non-null  object \n",
      " 23  create_app                  700000 non-null  int64  \n",
      " 24  create_user                 700000 non-null  int64  \n",
      " 25  modified_dt                 700000 non-null  object \n",
      " 26  modified_app                700000 non-null  int64  \n",
      " 27  modified_user               700000 non-null  int64  \n",
      " 28  status                      700000 non-null  int64  \n",
      " 29  note                        69884 non-null   object \n",
      "dtypes: float64(1), int64(12), object(17)\n",
      "memory usage: 160.2+ MB\n"
     ]
    }
   ],
   "source": [
    "df_info.info()"
   ]
  },
  {
   "cell_type": "markdown",
   "metadata": {},
   "source": [
    "Relevant columns in **df_info**:\n",
    "- `cons_id`: primary key, relates to other columns\n",
    "- `source`: code string data for q1 table\n",
    "- `create_dt`: created_dt datetime data for q1 table\n",
    "- `modified_dt`: updated_dt datetime for q1 table"
   ]
  },
  {
   "cell_type": "code",
   "execution_count": 11,
   "metadata": {},
   "outputs": [
    {
     "name": "stdout",
     "output_type": "stream",
     "text": [
      "<class 'pandas.core.frame.DataFrame'>\n",
      "RangeIndex: 1400000 entries, 0 to 1399999\n",
      "Data columns (total 16 columns):\n",
      " #   Column                Non-Null Count    Dtype \n",
      "---  ------                --------------    ----- \n",
      " 0   cons_email_id         1400000 non-null  int64 \n",
      " 1   cons_id               1400000 non-null  int64 \n",
      " 2   cons_email_type_id    1400000 non-null  int64 \n",
      " 3   is_primary            1400000 non-null  int64 \n",
      " 4   email                 1400000 non-null  object\n",
      " 5   canonical_local_part  700029 non-null   object\n",
      " 6   domain                1400000 non-null  object\n",
      " 7   double_validation     699825 non-null   object\n",
      " 8   create_dt             1400000 non-null  object\n",
      " 9   create_app            1400000 non-null  int64 \n",
      " 10  create_user           1400000 non-null  int64 \n",
      " 11  modified_dt           1400000 non-null  object\n",
      " 12  modified_app          1400000 non-null  int64 \n",
      " 13  modified_user         1400000 non-null  int64 \n",
      " 14  status                1400000 non-null  int64 \n",
      " 15  note                  139535 non-null   object\n",
      "dtypes: int64(9), object(7)\n",
      "memory usage: 170.9+ MB\n"
     ]
    }
   ],
   "source": [
    "df_emails.info()"
   ]
  },
  {
   "cell_type": "markdown",
   "metadata": {},
   "source": [
    "Relevant columns in **df_emails**:\n",
    "- `cons_email_id`: primary key\n",
    "- `cons_id`: foreign key used to link to df_info\n",
    "- `email`: email string data for q1 table\n",
    "\n",
    "*NOTE:*\n",
    "There are two unclear elements in this table.\n",
    "- `create_dt`: unclear if this may also fulfill q1 table requirement.\n",
    "- `modified_dt`: unclear if this may also fulfill q1 table requirement\n",
    "\n",
    "However, because these are associated in the email information, I will assume that the `create_dt` and `modified_dt` is used for the email, and not the person. As such, I will use the `create_dt` and `modified_dt` in df_info."
   ]
  },
  {
   "cell_type": "code",
   "execution_count": 12,
   "metadata": {},
   "outputs": [
    {
     "name": "stdout",
     "output_type": "stream",
     "text": [
      "<class 'pandas.core.frame.DataFrame'>\n",
      "RangeIndex: 350000 entries, 0 to 349999\n",
      "Data columns (total 6 columns):\n",
      " #   Column                              Non-Null Count   Dtype \n",
      "---  ------                              --------------   ----- \n",
      " 0   cons_email_chapter_subscription_id  350000 non-null  int64 \n",
      " 1   cons_email_id                       350000 non-null  int64 \n",
      " 2   chapter_id                          350000 non-null  int64 \n",
      " 3   isunsub                             350000 non-null  int64 \n",
      " 4   unsub_dt                            350000 non-null  object\n",
      " 5   modified_dt                         350000 non-null  object\n",
      "dtypes: int64(4), object(2)\n",
      "memory usage: 16.0+ MB\n"
     ]
    }
   ],
   "source": [
    "df_subs.info()"
   ]
  },
  {
   "cell_type": "markdown",
   "metadata": {},
   "source": [
    "Relevant columns in **df_subs**:\n",
    "- `cons_email_chapter_subscription_id`: primary key\n",
    "- `cons_email_id`: foreign key to link to df_emails\n",
    "- `isunsub`: is_unsub boolean data for q1 table"
   ]
  },
  {
   "cell_type": "markdown",
   "metadata": {},
   "source": [
    "#### Entity relationship notes\n",
    "The three data files contain relational data with contain primary and foreign keys to connect information about users. Relational joins are required to retrieve the information for the people file.\n",
    "\n",
    "I use `df_emails` as the base data file because it contains the most user records.\n",
    "Left joins to the df_emails table are made to preserve email addresses. This is based on the assumption that email addresses are the variable of interest.\n",
    "\n",
    "Given df_emails, the following left joins can be made:\n",
    "- `df_emails.cons_email_id` = `df_subs.cons_email_id`\n",
    "- `df_emails.cons_id` = `df_info.cons_id`\n",
    "\n",
    "*NOTE*: Because I used a left_join, it's possible that there will be NULL values in merged columns.\n"
   ]
  },
  {
   "cell_type": "markdown",
   "metadata": {},
   "source": [
    "## Keep relevant columns\n",
    "To increase notebook performance and readability, I only keep columns that are relevant to the analysis.\n",
    "\n",
    "Based on the questions outlined in this exercise and the columns identified in [Identify relevant information & entity relationships](#identify-relevant-information-&-entity-relationships), I am interested in the following columns for each dataframe:\n",
    "\n",
    "\n",
    "**df_info:**\n",
    "- `cons_id`: primary key, relates to other columns\n",
    "- `source`: code string data for q1 table\n",
    "- `create_dt`: created_dt datetime data for q1 table\n",
    "- `modified_dt`: updated_dt datetime for q1 table\n",
    "\n",
    "**df_emails:**\n",
    "- `cons_email_id`: primary key\n",
    "- `cons_id`: foreign key used to link to df_info\n",
    "- `email`: email string data for q1 table\n",
    "\n",
    "**df_subs:**\n",
    "- `cons_email_chapter_subscription_id`: primary key\n",
    "- `cons_email_id`: foreign key to link to df_emails\n",
    "- `isunsub`: is_unsub boolean data for q1 table"
   ]
  },
  {
   "cell_type": "code",
   "execution_count": 13,
   "metadata": {},
   "outputs": [],
   "source": [
    "## columns to save for each df\n",
    "cols_df_info = [\n",
    "    'cons_id',\n",
    "    'source',\n",
    "    'create_dt',\n",
    "    'modified_dt'\n",
    "]\n",
    "cols_df_email = [\n",
    "    'cons_email_id',\n",
    "    'cons_id',\n",
    "    'email',\n",
    "#     'create_dt',\n",
    "#     'modified_dt',\n",
    "]\n",
    "cols_df_subs = [\n",
    "    'cons_email_chapter_subscription_id',\n",
    "    'cons_email_id',\n",
    "    'isunsub'\n",
    "]\n"
   ]
  },
  {
   "cell_type": "code",
   "execution_count": 14,
   "metadata": {},
   "outputs": [],
   "source": [
    "## Auxilary function to modify df and track changes\n",
    "def keep_df_cols(df: object, columns: list) -> object:\n",
    "    \"\"\"Returns pandas dataframe with only specified columns.\n",
    "    \n",
    "    Uses pywrangle to document df changes.\"\"\"\n",
    "    df_old = pw.record_df_info(df)\n",
    "    df = df[columns]\n",
    "    pw.print_df_changes(df, df_old)\n",
    "    return df\n"
   ]
  },
  {
   "cell_type": "code",
   "execution_count": 15,
   "metadata": {
    "scrolled": true
   },
   "outputs": [
    {
     "name": "stdout",
     "output_type": "stream",
     "text": [
      "df       \tnum rows  \tnum columns  \tdf.size    \t\n",
      "--       \t--------  \t-----------  \t-------    \t\n",
      "before   \t700000    \t30           \t21000000   \t\n",
      "after    \t700000    \t4            \t2800000    \t\n",
      "df diff  \t0         \t-26          \t-18200000  \t\n",
      "% diff   \t0.0%      \t-86.67%      \t-86.67%    \t\n",
      "\n"
     ]
    },
    {
     "data": {
      "text/html": [
       "<div>\n",
       "<style scoped>\n",
       "    .dataframe tbody tr th:only-of-type {\n",
       "        vertical-align: middle;\n",
       "    }\n",
       "\n",
       "    .dataframe tbody tr th {\n",
       "        vertical-align: top;\n",
       "    }\n",
       "\n",
       "    .dataframe thead th {\n",
       "        text-align: right;\n",
       "    }\n",
       "</style>\n",
       "<table border=\"1\" class=\"dataframe\">\n",
       "  <thead>\n",
       "    <tr style=\"text-align: right;\">\n",
       "      <th></th>\n",
       "      <th>cons_id</th>\n",
       "      <th>source</th>\n",
       "      <th>create_dt</th>\n",
       "      <th>modified_dt</th>\n",
       "    </tr>\n",
       "  </thead>\n",
       "  <tbody>\n",
       "    <tr>\n",
       "      <th>0</th>\n",
       "      <td>1</td>\n",
       "      <td>google</td>\n",
       "      <td>Fri, 1983-08-26 06:02:03</td>\n",
       "      <td>Sun, 2015-12-27 09:28:02</td>\n",
       "    </tr>\n",
       "    <tr>\n",
       "      <th>1</th>\n",
       "      <td>2</td>\n",
       "      <td>facebook</td>\n",
       "      <td>Mon, 1979-03-05 21:08:54</td>\n",
       "      <td>Tue, 1989-06-20 13:28:57</td>\n",
       "    </tr>\n",
       "    <tr>\n",
       "      <th>2</th>\n",
       "      <td>3</td>\n",
       "      <td>NaN</td>\n",
       "      <td>Fri, 2008-08-22 19:20:28</td>\n",
       "      <td>Fri, 2020-06-05 18:13:57</td>\n",
       "    </tr>\n",
       "    <tr>\n",
       "      <th>3</th>\n",
       "      <td>4</td>\n",
       "      <td>google</td>\n",
       "      <td>Sun, 1984-04-29 11:18:18</td>\n",
       "      <td>Tue, 2012-01-31 07:26:35</td>\n",
       "    </tr>\n",
       "    <tr>\n",
       "      <th>4</th>\n",
       "      <td>5</td>\n",
       "      <td>NaN</td>\n",
       "      <td>Thu, 2007-07-19 18:28:09</td>\n",
       "      <td>Tue, 1971-04-27 06:53:53</td>\n",
       "    </tr>\n",
       "  </tbody>\n",
       "</table>\n",
       "</div>"
      ],
      "text/plain": [
       "   cons_id    source                 create_dt               modified_dt\n",
       "0        1    google  Fri, 1983-08-26 06:02:03  Sun, 2015-12-27 09:28:02\n",
       "1        2  facebook  Mon, 1979-03-05 21:08:54  Tue, 1989-06-20 13:28:57\n",
       "2        3       NaN  Fri, 2008-08-22 19:20:28  Fri, 2020-06-05 18:13:57\n",
       "3        4    google  Sun, 1984-04-29 11:18:18  Tue, 2012-01-31 07:26:35\n",
       "4        5       NaN  Thu, 2007-07-19 18:28:09  Tue, 1971-04-27 06:53:53"
      ]
     },
     "execution_count": 15,
     "metadata": {},
     "output_type": "execute_result"
    }
   ],
   "source": [
    "## Keep information columns\n",
    "df_info = keep_df_cols(df_info, cols_df_info)\n",
    "df_info.head()"
   ]
  },
  {
   "cell_type": "markdown",
   "metadata": {},
   "source": [
    "Drop 25 columns from `df_info` and 86% of the data."
   ]
  },
  {
   "cell_type": "code",
   "execution_count": 16,
   "metadata": {
    "scrolled": true
   },
   "outputs": [
    {
     "name": "stdout",
     "output_type": "stream",
     "text": [
      "df       \tnum rows  \tnum columns  \tdf.size    \t\n",
      "--       \t--------  \t-----------  \t-------    \t\n",
      "before   \t1400000   \t16           \t22400000   \t\n",
      "after    \t1400000   \t3            \t4200000    \t\n",
      "df diff  \t0         \t-13          \t-18200000  \t\n",
      "% diff   \t0.0%      \t-81.25%      \t-81.25%    \t\n",
      "\n"
     ]
    },
    {
     "data": {
      "text/html": [
       "<div>\n",
       "<style scoped>\n",
       "    .dataframe tbody tr th:only-of-type {\n",
       "        vertical-align: middle;\n",
       "    }\n",
       "\n",
       "    .dataframe tbody tr th {\n",
       "        vertical-align: top;\n",
       "    }\n",
       "\n",
       "    .dataframe thead th {\n",
       "        text-align: right;\n",
       "    }\n",
       "</style>\n",
       "<table border=\"1\" class=\"dataframe\">\n",
       "  <thead>\n",
       "    <tr style=\"text-align: right;\">\n",
       "      <th></th>\n",
       "      <th>cons_email_id</th>\n",
       "      <th>cons_id</th>\n",
       "      <th>email</th>\n",
       "    </tr>\n",
       "  </thead>\n",
       "  <tbody>\n",
       "    <tr>\n",
       "      <th>0</th>\n",
       "      <td>1</td>\n",
       "      <td>548198</td>\n",
       "      <td>xmartinez@vincent.com</td>\n",
       "    </tr>\n",
       "    <tr>\n",
       "      <th>1</th>\n",
       "      <td>2</td>\n",
       "      <td>491137</td>\n",
       "      <td>hmiller@haynes.biz</td>\n",
       "    </tr>\n",
       "    <tr>\n",
       "      <th>2</th>\n",
       "      <td>3</td>\n",
       "      <td>413429</td>\n",
       "      <td>aaron64@yahoo.com</td>\n",
       "    </tr>\n",
       "    <tr>\n",
       "      <th>3</th>\n",
       "      <td>4</td>\n",
       "      <td>347346</td>\n",
       "      <td>wyattvincent@hotmail.com</td>\n",
       "    </tr>\n",
       "    <tr>\n",
       "      <th>4</th>\n",
       "      <td>5</td>\n",
       "      <td>443000</td>\n",
       "      <td>tspencer@hotmail.com</td>\n",
       "    </tr>\n",
       "  </tbody>\n",
       "</table>\n",
       "</div>"
      ],
      "text/plain": [
       "   cons_email_id  cons_id                     email\n",
       "0              1   548198     xmartinez@vincent.com\n",
       "1              2   491137        hmiller@haynes.biz\n",
       "2              3   413429         aaron64@yahoo.com\n",
       "3              4   347346  wyattvincent@hotmail.com\n",
       "4              5   443000      tspencer@hotmail.com"
      ]
     },
     "execution_count": 16,
     "metadata": {},
     "output_type": "execute_result"
    }
   ],
   "source": [
    "## Keep email columns\n",
    "df_emails = keep_df_cols(df_emails, cols_df_email)\n",
    "df_emails.head()"
   ]
  },
  {
   "cell_type": "markdown",
   "metadata": {},
   "source": [
    "Drop 13 columns from `df_emails` and 81% of the data."
   ]
  },
  {
   "cell_type": "code",
   "execution_count": 17,
   "metadata": {
    "scrolled": true
   },
   "outputs": [
    {
     "name": "stdout",
     "output_type": "stream",
     "text": [
      "df       \tnum rows  \tnum columns  \tdf.size   \t\n",
      "--       \t--------  \t-----------  \t-------   \t\n",
      "before   \t350000    \t6            \t2100000   \t\n",
      "after    \t350000    \t3            \t1050000   \t\n",
      "df diff  \t0         \t-3           \t-1050000  \t\n",
      "% diff   \t0.0%      \t-50.0%       \t-50.0%    \t\n",
      "\n"
     ]
    },
    {
     "data": {
      "text/html": [
       "<div>\n",
       "<style scoped>\n",
       "    .dataframe tbody tr th:only-of-type {\n",
       "        vertical-align: middle;\n",
       "    }\n",
       "\n",
       "    .dataframe tbody tr th {\n",
       "        vertical-align: top;\n",
       "    }\n",
       "\n",
       "    .dataframe thead th {\n",
       "        text-align: right;\n",
       "    }\n",
       "</style>\n",
       "<table border=\"1\" class=\"dataframe\">\n",
       "  <thead>\n",
       "    <tr style=\"text-align: right;\">\n",
       "      <th></th>\n",
       "      <th>cons_email_chapter_subscription_id</th>\n",
       "      <th>cons_email_id</th>\n",
       "      <th>isunsub</th>\n",
       "    </tr>\n",
       "  </thead>\n",
       "  <tbody>\n",
       "    <tr>\n",
       "      <th>0</th>\n",
       "      <td>1</td>\n",
       "      <td>332188</td>\n",
       "      <td>1</td>\n",
       "    </tr>\n",
       "    <tr>\n",
       "      <th>1</th>\n",
       "      <td>2</td>\n",
       "      <td>536526</td>\n",
       "      <td>1</td>\n",
       "    </tr>\n",
       "    <tr>\n",
       "      <th>2</th>\n",
       "      <td>3</td>\n",
       "      <td>134711</td>\n",
       "      <td>1</td>\n",
       "    </tr>\n",
       "    <tr>\n",
       "      <th>3</th>\n",
       "      <td>4</td>\n",
       "      <td>660345</td>\n",
       "      <td>1</td>\n",
       "    </tr>\n",
       "    <tr>\n",
       "      <th>4</th>\n",
       "      <td>5</td>\n",
       "      <td>184268</td>\n",
       "      <td>1</td>\n",
       "    </tr>\n",
       "  </tbody>\n",
       "</table>\n",
       "</div>"
      ],
      "text/plain": [
       "   cons_email_chapter_subscription_id  cons_email_id  isunsub\n",
       "0                                   1         332188        1\n",
       "1                                   2         536526        1\n",
       "2                                   3         134711        1\n",
       "3                                   4         660345        1\n",
       "4                                   5         184268        1"
      ]
     },
     "execution_count": 17,
     "metadata": {},
     "output_type": "execute_result"
    }
   ],
   "source": [
    "## Keep subscription columns\n",
    "df_subs = keep_df_cols(df_subs, cols_df_subs)\n",
    "df_subs.head()"
   ]
  },
  {
   "cell_type": "markdown",
   "metadata": {},
   "source": [
    "Drop 3 columns from `df_subs` and 50% of the data."
   ]
  },
  {
   "cell_type": "markdown",
   "metadata": {},
   "source": [
    "## Missing data\n",
    "Look at the missing data in each dataframe."
   ]
  },
  {
   "cell_type": "code",
   "execution_count": 18,
   "metadata": {},
   "outputs": [],
   "source": [
    "def check_df_missing_data(df: object, df_name: str) -> None:\n",
    "    \"\"\"Creates msno.bar graph of data present in dataframe.\"\"\"\n",
    "    msno.bar(df)\n",
    "    plt.title(f\"Non-NULL values for {df_name} data.\")\n",
    "    plt.xlabel(\"Column\")\n",
    "    plt.ylabel(\"% data present\")\n",
    "    plt.figure(figsize=(5, 2))"
   ]
  },
  {
   "cell_type": "markdown",
   "metadata": {},
   "source": [
    "### Missing constituent info data"
   ]
  },
  {
   "cell_type": "code",
   "execution_count": 19,
   "metadata": {},
   "outputs": [
    {
     "data": {
      "image/png": "[encoded data removed]",
      "text/plain": [
       "<Figure size 1728x720 with 3 Axes>"
      ]
     },
     "metadata": {
      "needs_background": "light"
     },
     "output_type": "display_data"
    },
    {
     "data": {
      "text/plain": [
       "<Figure size 360x144 with 0 Axes>"
      ]
     },
     "metadata": {},
     "output_type": "display_data"
    }
   ],
   "source": [
    "check_df_missing_data(df_info, \"Constituent Information\")"
   ]
  },
  {
   "cell_type": "markdown",
   "metadata": {},
   "source": [
    "NOTE: There `source` column is missing approximately half of its data. Because there is still relevant information on for `create_dt` and `modified_dt`, I will keep missing data in the source columns,"
   ]
  },
  {
   "cell_type": "code",
   "execution_count": 20,
   "metadata": {
    "scrolled": true
   },
   "outputs": [
    {
     "data": {
      "text/plain": [
       "organic     87875\n",
       "google      87614\n",
       "twitter     87510\n",
       "facebook    87027\n",
       "Name: source, dtype: int64"
      ]
     },
     "execution_count": 20,
     "metadata": {},
     "output_type": "execute_result"
    }
   ],
   "source": [
    "df_info['source'].value_counts()"
   ]
  },
  {
   "cell_type": "markdown",
   "metadata": {},
   "source": [
    "Source data is categorical with 4 categories:\n",
    "- organic\n",
    "- google\n",
    "- twitter\n",
    "- facebook\n",
    "\n",
    "Because about half of source values are NULL, I will preserve them and label them as `unknown`."
   ]
  },
  {
   "cell_type": "code",
   "execution_count": 21,
   "metadata": {
    "scrolled": true
   },
   "outputs": [],
   "source": [
    "df_info['source'].fillna(\"unknown\", inplace = True)"
   ]
  },
  {
   "cell_type": "markdown",
   "metadata": {},
   "source": [
    "Check NULLs are transformed"
   ]
  },
  {
   "cell_type": "code",
   "execution_count": 22,
   "metadata": {
    "scrolled": false
   },
   "outputs": [
    {
     "data": {
      "image/png": "[encoded data removed]",
      "text/plain": [
       "<Figure size 1728x720 with 3 Axes>"
      ]
     },
     "metadata": {
      "needs_background": "light"
     },
     "output_type": "display_data"
    },
    {
     "data": {
      "text/plain": [
       "<Figure size 360x144 with 0 Axes>"
      ]
     },
     "metadata": {},
     "output_type": "display_data"
    }
   ],
   "source": [
    "check_df_missing_data(df_info, \"Constituent Information\")"
   ]
  },
  {
   "cell_type": "code",
   "execution_count": 23,
   "metadata": {
    "scrolled": true
   },
   "outputs": [
    {
     "data": {
      "text/plain": [
       "unknown     349974\n",
       "organic      87875\n",
       "google       87614\n",
       "twitter      87510\n",
       "facebook     87027\n",
       "Name: source, dtype: int64"
      ]
     },
     "execution_count": 23,
     "metadata": {},
     "output_type": "execute_result"
    }
   ],
   "source": [
    "df_info['source'].value_counts()"
   ]
  },
  {
   "cell_type": "markdown",
   "metadata": {},
   "source": [
    "### Missing email data"
   ]
  },
  {
   "cell_type": "code",
   "execution_count": 24,
   "metadata": {},
   "outputs": [
    {
     "data": {
      "image/png": "[encoded data removed]",
      "text/plain": [
       "<Figure size 1728x720 with 3 Axes>"
      ]
     },
     "metadata": {
      "needs_background": "light"
     },
     "output_type": "display_data"
    },
    {
     "data": {
      "text/plain": [
       "<Figure size 360x144 with 0 Axes>"
      ]
     },
     "metadata": {},
     "output_type": "display_data"
    }
   ],
   "source": [
    "check_df_missing_data(df_emails, \"Constituent Emails\")"
   ]
  },
  {
   "cell_type": "markdown",
   "metadata": {},
   "source": [
    "No missing values in `df_emails`"
   ]
  },
  {
   "cell_type": "markdown",
   "metadata": {},
   "source": [
    "### Missing subscription data"
   ]
  },
  {
   "cell_type": "code",
   "execution_count": 25,
   "metadata": {},
   "outputs": [
    {
     "data": {
      "image/png": "[encoded data removed]",
      "text/plain": [
       "<Figure size 1728x720 with 3 Axes>"
      ]
     },
     "metadata": {
      "needs_background": "light"
     },
     "output_type": "display_data"
    },
    {
     "data": {
      "text/plain": [
       "<Figure size 360x144 with 0 Axes>"
      ]
     },
     "metadata": {},
     "output_type": "display_data"
    }
   ],
   "source": [
    "check_df_missing_data(df_subs, \"Constituent Subscription\")"
   ]
  },
  {
   "cell_type": "markdown",
   "metadata": {},
   "source": [
    "No missing values in `df_subs`."
   ]
  },
  {
   "cell_type": "markdown",
   "metadata": {},
   "source": [
    "## Clean string data\n",
    "This section cleans string data in the data frame columns.\n",
    "\n",
    "All strings are lower cased in the column for consistency purposes."
   ]
  },
  {
   "cell_type": "markdown",
   "metadata": {},
   "source": [
    "### Standardize constituent information\n",
    "Use pywrangle to standardize string column casing. Pass a tuple of tuples containing a string indicating the column to clean, and an integer representing the cleaning method to use."
   ]
  },
  {
   "cell_type": "code",
   "execution_count": 26,
   "metadata": {},
   "outputs": [
    {
     "name": "stdout",
     "output_type": "stream",
     "text": [
      "Column\t\tStr Cleaning\n",
      "------\t\t------------\n",
      "source \t\tlower\n",
      "create_dt\t\tlower\n",
      "modified_dt\t\tlower\n",
      "\n"
     ]
    }
   ],
   "source": [
    "cons_info_strcol_caseint: Tuple[Tuple[ str, int]] = (\n",
    "    (\"source\", 0),\n",
    "    (\"create_dt\", 0),\n",
    "    (\"modified_dt\", 0)\n",
    ")\n",
    "df_info = pw.clean_str_columns( df_info, cons_info_strcol_caseint)"
   ]
  },
  {
   "cell_type": "markdown",
   "metadata": {},
   "source": [
    "### Standardize emails"
   ]
  },
  {
   "cell_type": "code",
   "execution_count": 27,
   "metadata": {},
   "outputs": [
    {
     "name": "stdout",
     "output_type": "stream",
     "text": [
      "Column\t\tStr Cleaning\n",
      "------\t\t------------\n",
      "email  \t\tlower\n",
      "\n"
     ]
    }
   ],
   "source": [
    "cons_email_strcol_caseint: Tuple[Tuple[ str, int]] = (\n",
    "    ('email', 0),\n",
    ")\n",
    "df_emails = pw.clean_str_columns( df_emails, cons_email_strcol_caseint)"
   ]
  },
  {
   "cell_type": "markdown",
   "metadata": {},
   "source": [
    "### Standardize subscription information"
   ]
  },
  {
   "cell_type": "markdown",
   "metadata": {},
   "source": [
    "No string data in `df_subs`"
   ]
  },
  {
   "cell_type": "markdown",
   "metadata": {},
   "source": [
    "## Check duplicates\n",
    "This section checks for duplicate data entries in the Constituent data"
   ]
  },
  {
   "cell_type": "code",
   "execution_count": 28,
   "metadata": {},
   "outputs": [],
   "source": [
    "## Auxiliary function to check duplicates\n",
    "def check_df_duplicates(df, check_columns: List[str]) -> None:\n",
    "    \"\"\"Prints df and df.size of duplicates rows, and duplicates for specified columns.\"\"\"\n",
    "    ## duplicate rows\n",
    "    df_duplicate_rows = df[df.duplicated() == True]\n",
    "    print(f\"Number of df duplicate rows {len(df_duplicate_rows)}\")\n",
    "    \n",
    "    ## duplicates in column\n",
    "    for col in check_columns:\n",
    "        df_col_duplicates = df[df.duplicated(col)]\n",
    "        print(f\"Number of duplicates in {col}: {len(df_col_duplicates)}\")\n",
    "    return None"
   ]
  },
  {
   "cell_type": "code",
   "execution_count": 29,
   "metadata": {},
   "outputs": [],
   "source": [
    "def check_percent_missing_data(df, df_dup) -> None:\n",
    "    \"\"\"Prints the percentage of missing data.\"\"\"\n",
    "    print( (df_dup.size) / df.size * 100)"
   ]
  },
  {
   "cell_type": "code",
   "execution_count": 30,
   "metadata": {},
   "outputs": [],
   "source": [
    "## Auxiliary function to remove duplicates\n",
    "def remove_df_duplicates(df, column: str, keep: Union[str, bool] = False) -> \"dataframe\":\n",
    "    \"\"\"Auxiliary method to remove rows with duplicates n specified column.\n",
    "    \n",
    "    Uses pywrangle to record difference in df.\"\"\"\n",
    "    old_df = pw.record_df_info(df)\n",
    "    df.drop_duplicates(subset = column, keep = keep, inplace = True)\n",
    "    pw.print_df_changes(df, old_df)\n",
    "    return df\n",
    "    "
   ]
  },
  {
   "cell_type": "markdown",
   "metadata": {},
   "source": [
    "### info duplicates"
   ]
  },
  {
   "cell_type": "code",
   "execution_count": 31,
   "metadata": {},
   "outputs": [
    {
     "name": "stdout",
     "output_type": "stream",
     "text": [
      "Index(['cons_id', 'source', 'create_dt', 'modified_dt'], dtype='object')\n"
     ]
    }
   ],
   "source": [
    "print(df_info.columns)"
   ]
  },
  {
   "cell_type": "code",
   "execution_count": 32,
   "metadata": {},
   "outputs": [
    {
     "name": "stdout",
     "output_type": "stream",
     "text": [
      "Number of df duplicate rows 0\n",
      "Number of duplicates in cons_id: 0\n"
     ]
    }
   ],
   "source": [
    "check_info_cols = ['cons_id']   # no duplicate primary keys.\n",
    "check_df_duplicates(df_info, check_columns = check_info_cols)"
   ]
  },
  {
   "cell_type": "markdown",
   "metadata": {},
   "source": [
    "### email duplicates"
   ]
  },
  {
   "cell_type": "code",
   "execution_count": 33,
   "metadata": {},
   "outputs": [
    {
     "name": "stdout",
     "output_type": "stream",
     "text": [
      "Index(['cons_email_id', 'cons_id', 'email'], dtype='object')\n"
     ]
    }
   ],
   "source": [
    "print(df_emails.columns)"
   ]
  },
  {
   "cell_type": "code",
   "execution_count": 34,
   "metadata": {},
   "outputs": [
    {
     "name": "stdout",
     "output_type": "stream",
     "text": [
      "Number of df duplicate rows 0\n",
      "Number of duplicates in cons_email_id: 0\n",
      "Number of duplicates in cons_id: 794361\n"
     ]
    }
   ],
   "source": [
    "check_email_cols = ['cons_email_id', 'cons_id']   # No duplicate primary or foreign keys\n",
    "check_df_duplicates(df_emails, check_columns = check_email_cols)"
   ]
  },
  {
   "cell_type": "code",
   "execution_count": 35,
   "metadata": {
    "scrolled": true
   },
   "outputs": [
    {
     "data": {
      "text/html": [
       "<div>\n",
       "<style scoped>\n",
       "    .dataframe tbody tr th:only-of-type {\n",
       "        vertical-align: middle;\n",
       "    }\n",
       "\n",
       "    .dataframe tbody tr th {\n",
       "        vertical-align: top;\n",
       "    }\n",
       "\n",
       "    .dataframe thead th {\n",
       "        text-align: right;\n",
       "    }\n",
       "</style>\n",
       "<table border=\"1\" class=\"dataframe\">\n",
       "  <thead>\n",
       "    <tr style=\"text-align: right;\">\n",
       "      <th></th>\n",
       "      <th>cons_email_id</th>\n",
       "      <th>cons_id</th>\n",
       "      <th>email</th>\n",
       "    </tr>\n",
       "  </thead>\n",
       "  <tbody>\n",
       "    <tr>\n",
       "      <th>560548</th>\n",
       "      <td>560549</td>\n",
       "      <td>1</td>\n",
       "      <td>misty66@walsh-hampton.biz</td>\n",
       "    </tr>\n",
       "    <tr>\n",
       "      <th>546911</th>\n",
       "      <td>546912</td>\n",
       "      <td>1</td>\n",
       "      <td>daniel72@hudson.com</td>\n",
       "    </tr>\n",
       "    <tr>\n",
       "      <th>1244041</th>\n",
       "      <td>1244042</td>\n",
       "      <td>1</td>\n",
       "      <td>lucassmith@yahoo.com</td>\n",
       "    </tr>\n",
       "    <tr>\n",
       "      <th>701584</th>\n",
       "      <td>701585</td>\n",
       "      <td>2</td>\n",
       "      <td>asmith@henderson-hill.com</td>\n",
       "    </tr>\n",
       "    <tr>\n",
       "      <th>415586</th>\n",
       "      <td>415587</td>\n",
       "      <td>2</td>\n",
       "      <td>caustin@spears-carson.com</td>\n",
       "    </tr>\n",
       "  </tbody>\n",
       "</table>\n",
       "</div>"
      ],
      "text/plain": [
       "         cons_email_id  cons_id                      email\n",
       "560548          560549        1  misty66@walsh-hampton.biz\n",
       "546911          546912        1        daniel72@hudson.com\n",
       "1244041        1244042        1       lucassmith@yahoo.com\n",
       "701584          701585        2  asmith@henderson-hill.com\n",
       "415586          415587        2  caustin@spears-carson.com"
      ]
     },
     "execution_count": 35,
     "metadata": {},
     "output_type": "execute_result"
    }
   ],
   "source": [
    "dup_col = 'cons_id'\n",
    "df_dup_emails = df_emails[df_emails.duplicated(dup_col, keep = False)].sort_values(dup_col)\n",
    "df_dup_emails.head()"
   ]
  },
  {
   "cell_type": "code",
   "execution_count": 36,
   "metadata": {},
   "outputs": [
    {
     "data": {
      "text/html": [
       "<div>\n",
       "<style scoped>\n",
       "    .dataframe tbody tr th:only-of-type {\n",
       "        vertical-align: middle;\n",
       "    }\n",
       "\n",
       "    .dataframe tbody tr th {\n",
       "        vertical-align: top;\n",
       "    }\n",
       "\n",
       "    .dataframe thead th {\n",
       "        text-align: right;\n",
       "    }\n",
       "</style>\n",
       "<table border=\"1\" class=\"dataframe\">\n",
       "  <thead>\n",
       "    <tr style=\"text-align: right;\">\n",
       "      <th></th>\n",
       "      <th>cons_id</th>\n",
       "      <th>source</th>\n",
       "      <th>create_dt</th>\n",
       "      <th>modified_dt</th>\n",
       "    </tr>\n",
       "  </thead>\n",
       "  <tbody>\n",
       "    <tr>\n",
       "      <th>0</th>\n",
       "      <td>1</td>\n",
       "      <td>google</td>\n",
       "      <td>fri, 1983-08-26 06:02:03</td>\n",
       "      <td>sun, 2015-12-27 09:28:02</td>\n",
       "    </tr>\n",
       "    <tr>\n",
       "      <th>1</th>\n",
       "      <td>2</td>\n",
       "      <td>facebook</td>\n",
       "      <td>mon, 1979-03-05 21:08:54</td>\n",
       "      <td>tue, 1989-06-20 13:28:57</td>\n",
       "    </tr>\n",
       "    <tr>\n",
       "      <th>2</th>\n",
       "      <td>3</td>\n",
       "      <td>unknown</td>\n",
       "      <td>fri, 2008-08-22 19:20:28</td>\n",
       "      <td>fri, 2020-06-05 18:13:57</td>\n",
       "    </tr>\n",
       "    <tr>\n",
       "      <th>3</th>\n",
       "      <td>4</td>\n",
       "      <td>google</td>\n",
       "      <td>sun, 1984-04-29 11:18:18</td>\n",
       "      <td>tue, 2012-01-31 07:26:35</td>\n",
       "    </tr>\n",
       "    <tr>\n",
       "      <th>4</th>\n",
       "      <td>5</td>\n",
       "      <td>unknown</td>\n",
       "      <td>thu, 2007-07-19 18:28:09</td>\n",
       "      <td>tue, 1971-04-27 06:53:53</td>\n",
       "    </tr>\n",
       "  </tbody>\n",
       "</table>\n",
       "</div>"
      ],
      "text/plain": [
       "   cons_id    source                 create_dt               modified_dt\n",
       "0        1    google  fri, 1983-08-26 06:02:03  sun, 2015-12-27 09:28:02\n",
       "1        2  facebook  mon, 1979-03-05 21:08:54  tue, 1989-06-20 13:28:57\n",
       "2        3   unknown  fri, 2008-08-22 19:20:28  fri, 2020-06-05 18:13:57\n",
       "3        4    google  sun, 1984-04-29 11:18:18  tue, 2012-01-31 07:26:35\n",
       "4        5   unknown  thu, 2007-07-19 18:28:09  tue, 1971-04-27 06:53:53"
      ]
     },
     "execution_count": 36,
     "metadata": {},
     "output_type": "execute_result"
    }
   ],
   "source": [
    "df_info.sort_values(dup_col).head()"
   ]
  },
  {
   "cell_type": "markdown",
   "metadata": {},
   "source": [
    "There are a number of duplicate foreign keys for cons_id and we cannot be sure which user should reference the cons_id.\n",
    "\n",
    "It *is* a possibility that `df_emails.cons_id` to `df_info.cons_id` is a one to many relationship, although unlikely due to there being two datetimes values in each row. "
   ]
  },
  {
   "cell_type": "code",
   "execution_count": 37,
   "metadata": {},
   "outputs": [
    {
     "name": "stdout",
     "output_type": "stream",
     "text": [
      "86.46307142857142\n"
     ]
    }
   ],
   "source": [
    "check_percent_missing_data(df_emails, df_dup_emails)"
   ]
  },
  {
   "cell_type": "markdown",
   "metadata": {},
   "source": [
    "*Note*: Because analysis shows that 86% of the data contains duplicate foreign keys, I opt to keep the the duplicates of `df_emails.cons_id` rather than lose valuable data."
   ]
  },
  {
   "cell_type": "code",
   "execution_count": 38,
   "metadata": {},
   "outputs": [],
   "source": [
    "# df_emails = remove_df_duplicates(df_emails, dup_col, keep = False)"
   ]
  },
  {
   "cell_type": "markdown",
   "metadata": {},
   "source": [
    "### subscription duplicates"
   ]
  },
  {
   "cell_type": "code",
   "execution_count": 39,
   "metadata": {},
   "outputs": [
    {
     "name": "stdout",
     "output_type": "stream",
     "text": [
      "Index(['cons_email_chapter_subscription_id', 'cons_email_id', 'isunsub'], dtype='object')\n"
     ]
    }
   ],
   "source": [
    "print(df_subs.columns)"
   ]
  },
  {
   "cell_type": "code",
   "execution_count": 40,
   "metadata": {},
   "outputs": [
    {
     "name": "stdout",
     "output_type": "stream",
     "text": [
      "Number of df duplicate rows 0\n",
      "Number of duplicates in cons_email_chapter_subscription_id: 0\n",
      "Number of duplicates in cons_email_id: 74516\n"
     ]
    }
   ],
   "source": [
    "check_sub_cols = ['cons_email_chapter_subscription_id', 'cons_email_id']  # primary and foreign keys\n",
    "check_df_duplicates(df_subs, check_columns= check_sub_cols)"
   ]
  },
  {
   "cell_type": "code",
   "execution_count": 41,
   "metadata": {},
   "outputs": [
    {
     "data": {
      "text/html": [
       "<div>\n",
       "<style scoped>\n",
       "    .dataframe tbody tr th:only-of-type {\n",
       "        vertical-align: middle;\n",
       "    }\n",
       "\n",
       "    .dataframe tbody tr th {\n",
       "        vertical-align: top;\n",
       "    }\n",
       "\n",
       "    .dataframe thead th {\n",
       "        text-align: right;\n",
       "    }\n",
       "</style>\n",
       "<table border=\"1\" class=\"dataframe\">\n",
       "  <thead>\n",
       "    <tr style=\"text-align: right;\">\n",
       "      <th></th>\n",
       "      <th>cons_email_chapter_subscription_id</th>\n",
       "      <th>cons_email_id</th>\n",
       "      <th>isunsub</th>\n",
       "    </tr>\n",
       "  </thead>\n",
       "  <tbody>\n",
       "    <tr>\n",
       "      <th>235123</th>\n",
       "      <td>235124</td>\n",
       "      <td>22</td>\n",
       "      <td>1</td>\n",
       "    </tr>\n",
       "    <tr>\n",
       "      <th>306251</th>\n",
       "      <td>306252</td>\n",
       "      <td>22</td>\n",
       "      <td>1</td>\n",
       "    </tr>\n",
       "    <tr>\n",
       "      <th>293877</th>\n",
       "      <td>293878</td>\n",
       "      <td>27</td>\n",
       "      <td>1</td>\n",
       "    </tr>\n",
       "    <tr>\n",
       "      <th>89885</th>\n",
       "      <td>89886</td>\n",
       "      <td>27</td>\n",
       "      <td>1</td>\n",
       "    </tr>\n",
       "    <tr>\n",
       "      <th>172076</th>\n",
       "      <td>172077</td>\n",
       "      <td>31</td>\n",
       "      <td>1</td>\n",
       "    </tr>\n",
       "  </tbody>\n",
       "</table>\n",
       "</div>"
      ],
      "text/plain": [
       "        cons_email_chapter_subscription_id  cons_email_id  isunsub\n",
       "235123                              235124             22        1\n",
       "306251                              306252             22        1\n",
       "293877                              293878             27        1\n",
       "89885                                89886             27        1\n",
       "172076                              172077             31        1"
      ]
     },
     "execution_count": 41,
     "metadata": {},
     "output_type": "execute_result"
    }
   ],
   "source": [
    "subs_dup_col = 'cons_email_id'\n",
    "df_dup_subs = df_subs[ df_subs.duplicated(subs_dup_col, keep = False)].sort_values(subs_dup_col)\n",
    "df_dup_subs.head()"
   ]
  },
  {
   "cell_type": "markdown",
   "metadata": {},
   "source": [
    "There are duplicate foreign keys in `df_subs.cons_email_ids`. For this analysis, I remove the rows with duplicate `cons_email_ids` foreign keys. I remove the duplicate keys to avoid erroneously providing incorrect information on the `inunsub` status of Constituents. Sending emails to unsubscribed Constituents may run into legal issues under the CAN-SPAM Act.\n",
    "\n",
    "Note: further analysis may explore if rows with duplicate `cons_email_id` contain identical information (i.e., `isunsub`). If so, analysis can keep one instance of each duplicate."
   ]
  },
  {
   "cell_type": "code",
   "execution_count": 42,
   "metadata": {},
   "outputs": [
    {
     "name": "stdout",
     "output_type": "stream",
     "text": [
      "39.289142857142856\n"
     ]
    }
   ],
   "source": [
    "check_percent_missing_data(df_subs, df_dup_subs)"
   ]
  },
  {
   "cell_type": "code",
   "execution_count": 43,
   "metadata": {
    "scrolled": true
   },
   "outputs": [
    {
     "name": "stdout",
     "output_type": "stream",
     "text": [
      "df       \tnum rows              \tnum columns  \tdf.size               \t\n",
      "--       \t--------              \t-----------  \t-------               \t\n",
      "before   \t350000                \t3            \t1050000               \t\n",
      "after    \t212488                \t3            \t637464                \t\n",
      "df diff  \t-137512               \t0            \t-412536               \t\n",
      "% diff   \t-39.290000000000006%  \t0.0%         \t-39.290000000000006%  \t\n",
      "\n"
     ]
    }
   ],
   "source": [
    "df_subs = remove_df_duplicates(df_subs, subs_dup_col, keep = False)"
   ]
  },
  {
   "cell_type": "code",
   "execution_count": 44,
   "metadata": {
    "scrolled": true
   },
   "outputs": [
    {
     "data": {
      "text/plain": [
       "137512"
      ]
     },
     "execution_count": 44,
     "metadata": {},
     "output_type": "execute_result"
    }
   ],
   "source": [
    "## Sanity check that the rows from `df_subs` == `len(df_dup_subs)`\n",
    "len(df_dup_subs)"
   ]
  },
  {
   "cell_type": "markdown",
   "metadata": {},
   "source": [
    "## Clean datettime\n",
    "datetime data stored in df_info is stored in the {Day, Year-Month-Day Hour:Minute:Second} format. \n",
    "I convert this into ISO-datetime format for convenience."
   ]
  },
  {
   "cell_type": "code",
   "execution_count": 45,
   "metadata": {},
   "outputs": [
    {
     "data": {
      "text/html": [
       "<div>\n",
       "<style scoped>\n",
       "    .dataframe tbody tr th:only-of-type {\n",
       "        vertical-align: middle;\n",
       "    }\n",
       "\n",
       "    .dataframe tbody tr th {\n",
       "        vertical-align: top;\n",
       "    }\n",
       "\n",
       "    .dataframe thead th {\n",
       "        text-align: right;\n",
       "    }\n",
       "</style>\n",
       "<table border=\"1\" class=\"dataframe\">\n",
       "  <thead>\n",
       "    <tr style=\"text-align: right;\">\n",
       "      <th></th>\n",
       "      <th>cons_id</th>\n",
       "      <th>source</th>\n",
       "      <th>create_dt</th>\n",
       "      <th>modified_dt</th>\n",
       "    </tr>\n",
       "  </thead>\n",
       "  <tbody>\n",
       "    <tr>\n",
       "      <th>0</th>\n",
       "      <td>1</td>\n",
       "      <td>google</td>\n",
       "      <td>fri, 1983-08-26 06:02:03</td>\n",
       "      <td>sun, 2015-12-27 09:28:02</td>\n",
       "    </tr>\n",
       "    <tr>\n",
       "      <th>1</th>\n",
       "      <td>2</td>\n",
       "      <td>facebook</td>\n",
       "      <td>mon, 1979-03-05 21:08:54</td>\n",
       "      <td>tue, 1989-06-20 13:28:57</td>\n",
       "    </tr>\n",
       "    <tr>\n",
       "      <th>2</th>\n",
       "      <td>3</td>\n",
       "      <td>unknown</td>\n",
       "      <td>fri, 2008-08-22 19:20:28</td>\n",
       "      <td>fri, 2020-06-05 18:13:57</td>\n",
       "    </tr>\n",
       "    <tr>\n",
       "      <th>3</th>\n",
       "      <td>4</td>\n",
       "      <td>google</td>\n",
       "      <td>sun, 1984-04-29 11:18:18</td>\n",
       "      <td>tue, 2012-01-31 07:26:35</td>\n",
       "    </tr>\n",
       "    <tr>\n",
       "      <th>4</th>\n",
       "      <td>5</td>\n",
       "      <td>unknown</td>\n",
       "      <td>thu, 2007-07-19 18:28:09</td>\n",
       "      <td>tue, 1971-04-27 06:53:53</td>\n",
       "    </tr>\n",
       "  </tbody>\n",
       "</table>\n",
       "</div>"
      ],
      "text/plain": [
       "   cons_id    source                 create_dt               modified_dt\n",
       "0        1    google  fri, 1983-08-26 06:02:03  sun, 2015-12-27 09:28:02\n",
       "1        2  facebook  mon, 1979-03-05 21:08:54  tue, 1989-06-20 13:28:57\n",
       "2        3   unknown  fri, 2008-08-22 19:20:28  fri, 2020-06-05 18:13:57\n",
       "3        4    google  sun, 1984-04-29 11:18:18  tue, 2012-01-31 07:26:35\n",
       "4        5   unknown  thu, 2007-07-19 18:28:09  tue, 1971-04-27 06:53:53"
      ]
     },
     "execution_count": 45,
     "metadata": {},
     "output_type": "execute_result"
    }
   ],
   "source": [
    "df_info.head()"
   ]
  },
  {
   "cell_type": "code",
   "execution_count": 46,
   "metadata": {},
   "outputs": [],
   "source": [
    "## Auxiliary function to get datetime from day, datetime information stored in\n",
    "def get_datetime(day_datetime: str) -> 'datetime':\n",
    "    \"\"\"Returns datetime object from str datetime.\n",
    "    \n",
    "    >>> get_datetime('sat, 2017-09-30 08:26:54') \n",
    "    2017-09-30 08:26:54\n",
    "    \"\"\"\n",
    "    int_index = re.search(r'\\d', day_datetime).start()\n",
    "    datetime_list = list(day_datetime)[int_index:]\n",
    "    return ''.join(datetime_list)"
   ]
  },
  {
   "cell_type": "code",
   "execution_count": 47,
   "metadata": {},
   "outputs": [],
   "source": [
    "## Specify date-time format parser\n",
    "datetime_format = \"%Y-%m-%d %H:%M:%S\"\n",
    "\n",
    "## Cols to iterate through\n",
    "datetime_cols = ('create_dt', 'modified_dt')\n",
    "\n",
    "for col in datetime_cols:\n",
    "    df_info[col] = df_info[col].map(get_datetime)\n",
    "    df_info[col] = pd.to_datetime(df_info[col], format = datetime_format)\n",
    "    "
   ]
  },
  {
   "cell_type": "code",
   "execution_count": 48,
   "metadata": {},
   "outputs": [
    {
     "data": {
      "text/html": [
       "<div>\n",
       "<style scoped>\n",
       "    .dataframe tbody tr th:only-of-type {\n",
       "        vertical-align: middle;\n",
       "    }\n",
       "\n",
       "    .dataframe tbody tr th {\n",
       "        vertical-align: top;\n",
       "    }\n",
       "\n",
       "    .dataframe thead th {\n",
       "        text-align: right;\n",
       "    }\n",
       "</style>\n",
       "<table border=\"1\" class=\"dataframe\">\n",
       "  <thead>\n",
       "    <tr style=\"text-align: right;\">\n",
       "      <th></th>\n",
       "      <th>cons_id</th>\n",
       "      <th>source</th>\n",
       "      <th>create_dt</th>\n",
       "      <th>modified_dt</th>\n",
       "    </tr>\n",
       "  </thead>\n",
       "  <tbody>\n",
       "    <tr>\n",
       "      <th>0</th>\n",
       "      <td>1</td>\n",
       "      <td>google</td>\n",
       "      <td>1983-08-26 06:02:03</td>\n",
       "      <td>2015-12-27 09:28:02</td>\n",
       "    </tr>\n",
       "    <tr>\n",
       "      <th>1</th>\n",
       "      <td>2</td>\n",
       "      <td>facebook</td>\n",
       "      <td>1979-03-05 21:08:54</td>\n",
       "      <td>1989-06-20 13:28:57</td>\n",
       "    </tr>\n",
       "    <tr>\n",
       "      <th>2</th>\n",
       "      <td>3</td>\n",
       "      <td>unknown</td>\n",
       "      <td>2008-08-22 19:20:28</td>\n",
       "      <td>2020-06-05 18:13:57</td>\n",
       "    </tr>\n",
       "    <tr>\n",
       "      <th>3</th>\n",
       "      <td>4</td>\n",
       "      <td>google</td>\n",
       "      <td>1984-04-29 11:18:18</td>\n",
       "      <td>2012-01-31 07:26:35</td>\n",
       "    </tr>\n",
       "    <tr>\n",
       "      <th>4</th>\n",
       "      <td>5</td>\n",
       "      <td>unknown</td>\n",
       "      <td>2007-07-19 18:28:09</td>\n",
       "      <td>1971-04-27 06:53:53</td>\n",
       "    </tr>\n",
       "  </tbody>\n",
       "</table>\n",
       "</div>"
      ],
      "text/plain": [
       "   cons_id    source           create_dt         modified_dt\n",
       "0        1    google 1983-08-26 06:02:03 2015-12-27 09:28:02\n",
       "1        2  facebook 1979-03-05 21:08:54 1989-06-20 13:28:57\n",
       "2        3   unknown 2008-08-22 19:20:28 2020-06-05 18:13:57\n",
       "3        4    google 1984-04-29 11:18:18 2012-01-31 07:26:35\n",
       "4        5   unknown 2007-07-19 18:28:09 1971-04-27 06:53:53"
      ]
     },
     "execution_count": 48,
     "metadata": {},
     "output_type": "execute_result"
    }
   ],
   "source": [
    "df_info.head()"
   ]
  },
  {
   "cell_type": "code",
   "execution_count": 49,
   "metadata": {},
   "outputs": [
    {
     "name": "stdout",
     "output_type": "stream",
     "text": [
      "<class 'pandas.core.frame.DataFrame'>\n",
      "RangeIndex: 700000 entries, 0 to 699999\n",
      "Data columns (total 4 columns):\n",
      " #   Column       Non-Null Count   Dtype         \n",
      "---  ------       --------------   -----         \n",
      " 0   cons_id      700000 non-null  int64         \n",
      " 1   source       700000 non-null  object        \n",
      " 2   create_dt    700000 non-null  datetime64[ns]\n",
      " 3   modified_dt  700000 non-null  datetime64[ns]\n",
      "dtypes: datetime64[ns](2), int64(1), object(1)\n",
      "memory usage: 21.4+ MB\n"
     ]
    }
   ],
   "source": [
    "df_info.info()"
   ]
  },
  {
   "cell_type": "markdown",
   "metadata": {},
   "source": [
    "`create_dt` and `modified_dt` are now registered as datetime64 objects."
   ]
  },
  {
   "cell_type": "markdown",
   "metadata": {},
   "source": [
    "# Join data\n",
    "In this section, I join the three dataframes into a single dataframe with the desired information for quesiton 1:\n",
    "- email\n",
    "- code\n",
    "- is_unsub\n",
    "- created_dt\n",
    "- updated_dt\n",
    "\n",
    "Given df_emails, the following left joins are made:\n",
    "- df_emails.cons_email_id = df_subs.cons_email_id\n",
    "- df_emails.cons_id = df_info.cons_id"
   ]
  },
  {
   "cell_type": "code",
   "execution_count": 50,
   "metadata": {},
   "outputs": [
    {
     "data": {
      "text/html": [
       "<div>\n",
       "<style scoped>\n",
       "    .dataframe tbody tr th:only-of-type {\n",
       "        vertical-align: middle;\n",
       "    }\n",
       "\n",
       "    .dataframe tbody tr th {\n",
       "        vertical-align: top;\n",
       "    }\n",
       "\n",
       "    .dataframe thead th {\n",
       "        text-align: right;\n",
       "    }\n",
       "</style>\n",
       "<table border=\"1\" class=\"dataframe\">\n",
       "  <thead>\n",
       "    <tr style=\"text-align: right;\">\n",
       "      <th></th>\n",
       "      <th>cons_email_id</th>\n",
       "      <th>cons_id</th>\n",
       "      <th>email</th>\n",
       "      <th>source</th>\n",
       "      <th>create_dt</th>\n",
       "      <th>modified_dt</th>\n",
       "    </tr>\n",
       "  </thead>\n",
       "  <tbody>\n",
       "    <tr>\n",
       "      <th>0</th>\n",
       "      <td>1</td>\n",
       "      <td>548198</td>\n",
       "      <td>xmartinez@vincent.com</td>\n",
       "      <td>unknown</td>\n",
       "      <td>1997-09-30 01:41:35</td>\n",
       "      <td>1981-02-26 19:36:22</td>\n",
       "    </tr>\n",
       "    <tr>\n",
       "      <th>1</th>\n",
       "      <td>2</td>\n",
       "      <td>491137</td>\n",
       "      <td>hmiller@haynes.biz</td>\n",
       "      <td>google</td>\n",
       "      <td>2014-03-27 23:18:18</td>\n",
       "      <td>2012-12-10 18:46:32</td>\n",
       "    </tr>\n",
       "    <tr>\n",
       "      <th>2</th>\n",
       "      <td>3</td>\n",
       "      <td>413429</td>\n",
       "      <td>aaron64@yahoo.com</td>\n",
       "      <td>unknown</td>\n",
       "      <td>1992-06-01 06:07:45</td>\n",
       "      <td>1986-07-28 03:41:12</td>\n",
       "    </tr>\n",
       "    <tr>\n",
       "      <th>3</th>\n",
       "      <td>4</td>\n",
       "      <td>347346</td>\n",
       "      <td>wyattvincent@hotmail.com</td>\n",
       "      <td>unknown</td>\n",
       "      <td>1993-05-23 08:00:18</td>\n",
       "      <td>1983-05-07 09:29:18</td>\n",
       "    </tr>\n",
       "    <tr>\n",
       "      <th>4</th>\n",
       "      <td>5</td>\n",
       "      <td>443000</td>\n",
       "      <td>tspencer@hotmail.com</td>\n",
       "      <td>twitter</td>\n",
       "      <td>1986-10-31 03:24:05</td>\n",
       "      <td>1979-09-22 05:01:01</td>\n",
       "    </tr>\n",
       "  </tbody>\n",
       "</table>\n",
       "</div>"
      ],
      "text/plain": [
       "   cons_email_id  cons_id                     email   source  \\\n",
       "0              1   548198     xmartinez@vincent.com  unknown   \n",
       "1              2   491137        hmiller@haynes.biz   google   \n",
       "2              3   413429         aaron64@yahoo.com  unknown   \n",
       "3              4   347346  wyattvincent@hotmail.com  unknown   \n",
       "4              5   443000      tspencer@hotmail.com  twitter   \n",
       "\n",
       "            create_dt         modified_dt  \n",
       "0 1997-09-30 01:41:35 1981-02-26 19:36:22  \n",
       "1 2014-03-27 23:18:18 2012-12-10 18:46:32  \n",
       "2 1992-06-01 06:07:45 1986-07-28 03:41:12  \n",
       "3 1993-05-23 08:00:18 1983-05-07 09:29:18  \n",
       "4 1986-10-31 03:24:05 1979-09-22 05:01:01  "
      ]
     },
     "execution_count": 50,
     "metadata": {},
     "output_type": "execute_result"
    }
   ],
   "source": [
    "## Left Join df_emails and df_info\n",
    "df_email_info = pd.merge(left = df_emails, right = df_info, how= 'left', left_on = 'cons_id', right_on = 'cons_id')\n",
    "df_email_info.head()"
   ]
  },
  {
   "cell_type": "code",
   "execution_count": 51,
   "metadata": {},
   "outputs": [],
   "source": [
    "## Create total data_frame for q1\n",
    "df_email_info_subs = pd.merge(\n",
    "    left = df_email_info, right = df_subs, \n",
    "    how = 'left', \n",
    "    left_on = 'cons_email_id', right_on = 'cons_email_id')\n",
    "df_email_info_subs.sort_values(by = 'cons_id', inplace = True)"
   ]
  },
  {
   "cell_type": "code",
   "execution_count": 52,
   "metadata": {},
   "outputs": [
    {
     "data": {
      "text/html": [
       "<div>\n",
       "<style scoped>\n",
       "    .dataframe tbody tr th:only-of-type {\n",
       "        vertical-align: middle;\n",
       "    }\n",
       "\n",
       "    .dataframe tbody tr th {\n",
       "        vertical-align: top;\n",
       "    }\n",
       "\n",
       "    .dataframe thead th {\n",
       "        text-align: right;\n",
       "    }\n",
       "</style>\n",
       "<table border=\"1\" class=\"dataframe\">\n",
       "  <thead>\n",
       "    <tr style=\"text-align: right;\">\n",
       "      <th></th>\n",
       "      <th>cons_email_id</th>\n",
       "      <th>cons_id</th>\n",
       "      <th>email</th>\n",
       "      <th>source</th>\n",
       "      <th>create_dt</th>\n",
       "      <th>modified_dt</th>\n",
       "      <th>cons_email_chapter_subscription_id</th>\n",
       "      <th>isunsub</th>\n",
       "    </tr>\n",
       "  </thead>\n",
       "  <tbody>\n",
       "    <tr>\n",
       "      <th>1244041</th>\n",
       "      <td>1244042</td>\n",
       "      <td>1</td>\n",
       "      <td>lucassmith@yahoo.com</td>\n",
       "      <td>google</td>\n",
       "      <td>1983-08-26 06:02:03</td>\n",
       "      <td>2015-12-27 09:28:02</td>\n",
       "      <td>NaN</td>\n",
       "      <td>NaN</td>\n",
       "    </tr>\n",
       "    <tr>\n",
       "      <th>560548</th>\n",
       "      <td>560549</td>\n",
       "      <td>1</td>\n",
       "      <td>misty66@walsh-hampton.biz</td>\n",
       "      <td>google</td>\n",
       "      <td>1983-08-26 06:02:03</td>\n",
       "      <td>2015-12-27 09:28:02</td>\n",
       "      <td>NaN</td>\n",
       "      <td>NaN</td>\n",
       "    </tr>\n",
       "    <tr>\n",
       "      <th>546911</th>\n",
       "      <td>546912</td>\n",
       "      <td>1</td>\n",
       "      <td>daniel72@hudson.com</td>\n",
       "      <td>google</td>\n",
       "      <td>1983-08-26 06:02:03</td>\n",
       "      <td>2015-12-27 09:28:02</td>\n",
       "      <td>NaN</td>\n",
       "      <td>NaN</td>\n",
       "    </tr>\n",
       "    <tr>\n",
       "      <th>642651</th>\n",
       "      <td>642652</td>\n",
       "      <td>2</td>\n",
       "      <td>deborah57@shaffer-reed.org</td>\n",
       "      <td>facebook</td>\n",
       "      <td>1979-03-05 21:08:54</td>\n",
       "      <td>1989-06-20 13:28:57</td>\n",
       "      <td>332346.0</td>\n",
       "      <td>1.0</td>\n",
       "    </tr>\n",
       "    <tr>\n",
       "      <th>701584</th>\n",
       "      <td>701585</td>\n",
       "      <td>2</td>\n",
       "      <td>asmith@henderson-hill.com</td>\n",
       "      <td>facebook</td>\n",
       "      <td>1979-03-05 21:08:54</td>\n",
       "      <td>1989-06-20 13:28:57</td>\n",
       "      <td>NaN</td>\n",
       "      <td>NaN</td>\n",
       "    </tr>\n",
       "  </tbody>\n",
       "</table>\n",
       "</div>"
      ],
      "text/plain": [
       "         cons_email_id  cons_id                       email    source  \\\n",
       "1244041        1244042        1        lucassmith@yahoo.com    google   \n",
       "560548          560549        1   misty66@walsh-hampton.biz    google   \n",
       "546911          546912        1         daniel72@hudson.com    google   \n",
       "642651          642652        2  deborah57@shaffer-reed.org  facebook   \n",
       "701584          701585        2   asmith@henderson-hill.com  facebook   \n",
       "\n",
       "                  create_dt         modified_dt  \\\n",
       "1244041 1983-08-26 06:02:03 2015-12-27 09:28:02   \n",
       "560548  1983-08-26 06:02:03 2015-12-27 09:28:02   \n",
       "546911  1983-08-26 06:02:03 2015-12-27 09:28:02   \n",
       "642651  1979-03-05 21:08:54 1989-06-20 13:28:57   \n",
       "701584  1979-03-05 21:08:54 1989-06-20 13:28:57   \n",
       "\n",
       "         cons_email_chapter_subscription_id  isunsub  \n",
       "1244041                                 NaN      NaN  \n",
       "560548                                  NaN      NaN  \n",
       "546911                                  NaN      NaN  \n",
       "642651                             332346.0      1.0  \n",
       "701584                                  NaN      NaN  "
      ]
     },
     "execution_count": 52,
     "metadata": {},
     "output_type": "execute_result"
    }
   ],
   "source": [
    "df_email_info_subs.head()"
   ]
  },
  {
   "cell_type": "markdown",
   "metadata": {},
   "source": [
    "# Q1: 'people' file\n",
    "This section saves the 'people' file as a csv with a header line."
   ]
  },
  {
   "cell_type": "code",
   "execution_count": 53,
   "metadata": {},
   "outputs": [
    {
     "data": {
      "text/html": [
       "<div>\n",
       "<style scoped>\n",
       "    .dataframe tbody tr th:only-of-type {\n",
       "        vertical-align: middle;\n",
       "    }\n",
       "\n",
       "    .dataframe tbody tr th {\n",
       "        vertical-align: top;\n",
       "    }\n",
       "\n",
       "    .dataframe thead th {\n",
       "        text-align: right;\n",
       "    }\n",
       "</style>\n",
       "<table border=\"1\" class=\"dataframe\">\n",
       "  <thead>\n",
       "    <tr style=\"text-align: right;\">\n",
       "      <th></th>\n",
       "      <th>email</th>\n",
       "      <th>source</th>\n",
       "      <th>isunsub</th>\n",
       "      <th>create_dt</th>\n",
       "      <th>modified_dt</th>\n",
       "    </tr>\n",
       "  </thead>\n",
       "  <tbody>\n",
       "    <tr>\n",
       "      <th>0</th>\n",
       "      <td>lucassmith@yahoo.com</td>\n",
       "      <td>google</td>\n",
       "      <td>NaN</td>\n",
       "      <td>1983-08-26 06:02:03</td>\n",
       "      <td>2015-12-27 09:28:02</td>\n",
       "    </tr>\n",
       "    <tr>\n",
       "      <th>1</th>\n",
       "      <td>misty66@walsh-hampton.biz</td>\n",
       "      <td>google</td>\n",
       "      <td>NaN</td>\n",
       "      <td>1983-08-26 06:02:03</td>\n",
       "      <td>2015-12-27 09:28:02</td>\n",
       "    </tr>\n",
       "    <tr>\n",
       "      <th>2</th>\n",
       "      <td>daniel72@hudson.com</td>\n",
       "      <td>google</td>\n",
       "      <td>NaN</td>\n",
       "      <td>1983-08-26 06:02:03</td>\n",
       "      <td>2015-12-27 09:28:02</td>\n",
       "    </tr>\n",
       "    <tr>\n",
       "      <th>3</th>\n",
       "      <td>deborah57@shaffer-reed.org</td>\n",
       "      <td>facebook</td>\n",
       "      <td>1.0</td>\n",
       "      <td>1979-03-05 21:08:54</td>\n",
       "      <td>1989-06-20 13:28:57</td>\n",
       "    </tr>\n",
       "    <tr>\n",
       "      <th>4</th>\n",
       "      <td>asmith@henderson-hill.com</td>\n",
       "      <td>facebook</td>\n",
       "      <td>NaN</td>\n",
       "      <td>1979-03-05 21:08:54</td>\n",
       "      <td>1989-06-20 13:28:57</td>\n",
       "    </tr>\n",
       "  </tbody>\n",
       "</table>\n",
       "</div>"
      ],
      "text/plain": [
       "                        email    source  isunsub           create_dt  \\\n",
       "0        lucassmith@yahoo.com    google      NaN 1983-08-26 06:02:03   \n",
       "1   misty66@walsh-hampton.biz    google      NaN 1983-08-26 06:02:03   \n",
       "2         daniel72@hudson.com    google      NaN 1983-08-26 06:02:03   \n",
       "3  deborah57@shaffer-reed.org  facebook      1.0 1979-03-05 21:08:54   \n",
       "4   asmith@henderson-hill.com  facebook      NaN 1979-03-05 21:08:54   \n",
       "\n",
       "          modified_dt  \n",
       "0 2015-12-27 09:28:02  \n",
       "1 2015-12-27 09:28:02  \n",
       "2 2015-12-27 09:28:02  \n",
       "3 1989-06-20 13:28:57  \n",
       "4 1989-06-20 13:28:57  "
      ]
     },
     "execution_count": 53,
     "metadata": {},
     "output_type": "execute_result"
    }
   ],
   "source": [
    "desired_columns = [\n",
    "    'email',\n",
    "    'source',\n",
    "    'isunsub',\n",
    "    'create_dt',\n",
    "    'modified_dt'\n",
    "]\n",
    "df_q1 = df_email_info_subs[desired_columns]\n",
    "df_q1.reset_index(drop = True, inplace = True)\n",
    "df_q1.head()"
   ]
  },
  {
   "cell_type": "code",
   "execution_count": 54,
   "metadata": {},
   "outputs": [
    {
     "data": {
      "text/html": [
       "<div>\n",
       "<style scoped>\n",
       "    .dataframe tbody tr th:only-of-type {\n",
       "        vertical-align: middle;\n",
       "    }\n",
       "\n",
       "    .dataframe tbody tr th {\n",
       "        vertical-align: top;\n",
       "    }\n",
       "\n",
       "    .dataframe thead th {\n",
       "        text-align: right;\n",
       "    }\n",
       "</style>\n",
       "<table border=\"1\" class=\"dataframe\">\n",
       "  <thead>\n",
       "    <tr style=\"text-align: right;\">\n",
       "      <th></th>\n",
       "      <th>email</th>\n",
       "      <th>code</th>\n",
       "      <th>is_unsub</th>\n",
       "      <th>created_dt</th>\n",
       "      <th>updated_dt</th>\n",
       "    </tr>\n",
       "  </thead>\n",
       "  <tbody>\n",
       "    <tr>\n",
       "      <th>0</th>\n",
       "      <td>lucassmith@yahoo.com</td>\n",
       "      <td>google</td>\n",
       "      <td>NaN</td>\n",
       "      <td>1983-08-26 06:02:03</td>\n",
       "      <td>2015-12-27 09:28:02</td>\n",
       "    </tr>\n",
       "    <tr>\n",
       "      <th>1</th>\n",
       "      <td>misty66@walsh-hampton.biz</td>\n",
       "      <td>google</td>\n",
       "      <td>NaN</td>\n",
       "      <td>1983-08-26 06:02:03</td>\n",
       "      <td>2015-12-27 09:28:02</td>\n",
       "    </tr>\n",
       "    <tr>\n",
       "      <th>2</th>\n",
       "      <td>daniel72@hudson.com</td>\n",
       "      <td>google</td>\n",
       "      <td>NaN</td>\n",
       "      <td>1983-08-26 06:02:03</td>\n",
       "      <td>2015-12-27 09:28:02</td>\n",
       "    </tr>\n",
       "    <tr>\n",
       "      <th>3</th>\n",
       "      <td>deborah57@shaffer-reed.org</td>\n",
       "      <td>facebook</td>\n",
       "      <td>1.0</td>\n",
       "      <td>1979-03-05 21:08:54</td>\n",
       "      <td>1989-06-20 13:28:57</td>\n",
       "    </tr>\n",
       "    <tr>\n",
       "      <th>4</th>\n",
       "      <td>asmith@henderson-hill.com</td>\n",
       "      <td>facebook</td>\n",
       "      <td>NaN</td>\n",
       "      <td>1979-03-05 21:08:54</td>\n",
       "      <td>1989-06-20 13:28:57</td>\n",
       "    </tr>\n",
       "  </tbody>\n",
       "</table>\n",
       "</div>"
      ],
      "text/plain": [
       "                        email      code  is_unsub          created_dt  \\\n",
       "0        lucassmith@yahoo.com    google       NaN 1983-08-26 06:02:03   \n",
       "1   misty66@walsh-hampton.biz    google       NaN 1983-08-26 06:02:03   \n",
       "2         daniel72@hudson.com    google       NaN 1983-08-26 06:02:03   \n",
       "3  deborah57@shaffer-reed.org  facebook       1.0 1979-03-05 21:08:54   \n",
       "4   asmith@henderson-hill.com  facebook       NaN 1979-03-05 21:08:54   \n",
       "\n",
       "           updated_dt  \n",
       "0 2015-12-27 09:28:02  \n",
       "1 2015-12-27 09:28:02  \n",
       "2 2015-12-27 09:28:02  \n",
       "3 1989-06-20 13:28:57  \n",
       "4 1989-06-20 13:28:57  "
      ]
     },
     "execution_count": 54,
     "metadata": {},
     "output_type": "execute_result"
    }
   ],
   "source": [
    "## Rename columns\n",
    "q1_col_names = (\n",
    "    'email',\n",
    "    'code',\n",
    "    'is_unsub',\n",
    "    'created_dt',\n",
    "    'updated_dt'\n",
    ")\n",
    "\n",
    "df_q1.columns = q1_col_names\n",
    "df_q1.head()"
   ]
  },
  {
   "cell_type": "code",
   "execution_count": 55,
   "metadata": {},
   "outputs": [
    {
     "data": {
      "image/png": "[encoded data removed]",
      "text/plain": [
       "<Figure size 1728x720 with 3 Axes>"
      ]
     },
     "metadata": {
      "needs_background": "light"
     },
     "output_type": "display_data"
    },
    {
     "data": {
      "text/plain": [
       "<Figure size 360x144 with 0 Axes>"
      ]
     },
     "metadata": {},
     "output_type": "display_data"
    }
   ],
   "source": [
    "check_df_missing_data(df_q1, \"Dataframe for q1\")"
   ]
  },
  {
   "cell_type": "markdown",
   "metadata": {},
   "source": [
    "Note: The left join on emails to subcription status created NULL values in the `in_unsub` column.\n",
    "\n",
    "Because the second question does not specify to remove people who are unsubbed, I will preserve rows with NULL values in the `in_unsub` column. I will mark these values as `unknown`."
   ]
  },
  {
   "cell_type": "code",
   "execution_count": 56,
   "metadata": {},
   "outputs": [],
   "source": [
    "missing_col = 'is_unsub'\n",
    "df_q1[missing_col].fillna(\"unknown\", inplace = True)"
   ]
  },
  {
   "cell_type": "code",
   "execution_count": 57,
   "metadata": {},
   "outputs": [
    {
     "data": {
      "image/png": "[encoded data removed]",
      "text/plain": [
       "<Figure size 1728x720 with 3 Axes>"
      ]
     },
     "metadata": {
      "needs_background": "light"
     },
     "output_type": "display_data"
    },
    {
     "data": {
      "text/plain": [
       "<Figure size 360x144 with 0 Axes>"
      ]
     },
     "metadata": {},
     "output_type": "display_data"
    }
   ],
   "source": [
    "check_df_missing_data(df_q1, \"Dataframe for q1\")"
   ]
  },
  {
   "cell_type": "code",
   "execution_count": 58,
   "metadata": {},
   "outputs": [
    {
     "name": "stdout",
     "output_type": "stream",
     "text": [
      "Wrote dataframe to people.csv\n"
     ]
    }
   ],
   "source": [
    "file_name = 'people.csv'\n",
    "\n",
    "df_q1.to_csv(\n",
    "    path_or_buf = file_name,\n",
    "    index = False,)\n",
    "\n",
    "print(f\"Wrote dataframe to {file_name}\")"
   ]
  },
  {
   "cell_type": "markdown",
   "metadata": {},
   "source": [
    "# Q2: “Acquisition_facts” file with stats about when people where acquired"
   ]
  },
  {
   "cell_type": "markdown",
   "metadata": {},
   "source": [
    "## Extract date from created_dt\n",
    "`created_dt` is stored as datetime, however the acquisition_facts scecifications request a date."
   ]
  },
  {
   "cell_type": "code",
   "execution_count": 59,
   "metadata": {},
   "outputs": [
    {
     "data": {
      "text/html": [
       "<div>\n",
       "<style scoped>\n",
       "    .dataframe tbody tr th:only-of-type {\n",
       "        vertical-align: middle;\n",
       "    }\n",
       "\n",
       "    .dataframe tbody tr th {\n",
       "        vertical-align: top;\n",
       "    }\n",
       "\n",
       "    .dataframe thead th {\n",
       "        text-align: right;\n",
       "    }\n",
       "</style>\n",
       "<table border=\"1\" class=\"dataframe\">\n",
       "  <thead>\n",
       "    <tr style=\"text-align: right;\">\n",
       "      <th></th>\n",
       "      <th>email</th>\n",
       "      <th>code</th>\n",
       "      <th>is_unsub</th>\n",
       "      <th>created_dt</th>\n",
       "      <th>updated_dt</th>\n",
       "    </tr>\n",
       "  </thead>\n",
       "  <tbody>\n",
       "    <tr>\n",
       "      <th>0</th>\n",
       "      <td>lucassmith@yahoo.com</td>\n",
       "      <td>google</td>\n",
       "      <td>unknown</td>\n",
       "      <td>1983-08-26 06:02:03</td>\n",
       "      <td>2015-12-27 09:28:02</td>\n",
       "    </tr>\n",
       "    <tr>\n",
       "      <th>1</th>\n",
       "      <td>misty66@walsh-hampton.biz</td>\n",
       "      <td>google</td>\n",
       "      <td>unknown</td>\n",
       "      <td>1983-08-26 06:02:03</td>\n",
       "      <td>2015-12-27 09:28:02</td>\n",
       "    </tr>\n",
       "    <tr>\n",
       "      <th>2</th>\n",
       "      <td>daniel72@hudson.com</td>\n",
       "      <td>google</td>\n",
       "      <td>unknown</td>\n",
       "      <td>1983-08-26 06:02:03</td>\n",
       "      <td>2015-12-27 09:28:02</td>\n",
       "    </tr>\n",
       "    <tr>\n",
       "      <th>3</th>\n",
       "      <td>deborah57@shaffer-reed.org</td>\n",
       "      <td>facebook</td>\n",
       "      <td>1</td>\n",
       "      <td>1979-03-05 21:08:54</td>\n",
       "      <td>1989-06-20 13:28:57</td>\n",
       "    </tr>\n",
       "    <tr>\n",
       "      <th>4</th>\n",
       "      <td>asmith@henderson-hill.com</td>\n",
       "      <td>facebook</td>\n",
       "      <td>unknown</td>\n",
       "      <td>1979-03-05 21:08:54</td>\n",
       "      <td>1989-06-20 13:28:57</td>\n",
       "    </tr>\n",
       "  </tbody>\n",
       "</table>\n",
       "</div>"
      ],
      "text/plain": [
       "                        email      code is_unsub          created_dt  \\\n",
       "0        lucassmith@yahoo.com    google  unknown 1983-08-26 06:02:03   \n",
       "1   misty66@walsh-hampton.biz    google  unknown 1983-08-26 06:02:03   \n",
       "2         daniel72@hudson.com    google  unknown 1983-08-26 06:02:03   \n",
       "3  deborah57@shaffer-reed.org  facebook        1 1979-03-05 21:08:54   \n",
       "4   asmith@henderson-hill.com  facebook  unknown 1979-03-05 21:08:54   \n",
       "\n",
       "           updated_dt  \n",
       "0 2015-12-27 09:28:02  \n",
       "1 2015-12-27 09:28:02  \n",
       "2 2015-12-27 09:28:02  \n",
       "3 1989-06-20 13:28:57  \n",
       "4 1989-06-20 13:28:57  "
      ]
     },
     "execution_count": 59,
     "metadata": {},
     "output_type": "execute_result"
    }
   ],
   "source": [
    "df_q1.head()"
   ]
  },
  {
   "cell_type": "code",
   "execution_count": 60,
   "metadata": {},
   "outputs": [],
   "source": [
    "df_q1['acquired'] = df_q1['created_dt'].dt.date"
   ]
  },
  {
   "cell_type": "code",
   "execution_count": 61,
   "metadata": {},
   "outputs": [
    {
     "data": {
      "text/html": [
       "<div>\n",
       "<style scoped>\n",
       "    .dataframe tbody tr th:only-of-type {\n",
       "        vertical-align: middle;\n",
       "    }\n",
       "\n",
       "    .dataframe tbody tr th {\n",
       "        vertical-align: top;\n",
       "    }\n",
       "\n",
       "    .dataframe thead th {\n",
       "        text-align: right;\n",
       "    }\n",
       "</style>\n",
       "<table border=\"1\" class=\"dataframe\">\n",
       "  <thead>\n",
       "    <tr style=\"text-align: right;\">\n",
       "      <th></th>\n",
       "      <th>email</th>\n",
       "      <th>code</th>\n",
       "      <th>is_unsub</th>\n",
       "      <th>created_dt</th>\n",
       "      <th>updated_dt</th>\n",
       "      <th>acquired</th>\n",
       "    </tr>\n",
       "  </thead>\n",
       "  <tbody>\n",
       "    <tr>\n",
       "      <th>0</th>\n",
       "      <td>lucassmith@yahoo.com</td>\n",
       "      <td>google</td>\n",
       "      <td>unknown</td>\n",
       "      <td>1983-08-26 06:02:03</td>\n",
       "      <td>2015-12-27 09:28:02</td>\n",
       "      <td>1983-08-26</td>\n",
       "    </tr>\n",
       "    <tr>\n",
       "      <th>1</th>\n",
       "      <td>misty66@walsh-hampton.biz</td>\n",
       "      <td>google</td>\n",
       "      <td>unknown</td>\n",
       "      <td>1983-08-26 06:02:03</td>\n",
       "      <td>2015-12-27 09:28:02</td>\n",
       "      <td>1983-08-26</td>\n",
       "    </tr>\n",
       "    <tr>\n",
       "      <th>2</th>\n",
       "      <td>daniel72@hudson.com</td>\n",
       "      <td>google</td>\n",
       "      <td>unknown</td>\n",
       "      <td>1983-08-26 06:02:03</td>\n",
       "      <td>2015-12-27 09:28:02</td>\n",
       "      <td>1983-08-26</td>\n",
       "    </tr>\n",
       "    <tr>\n",
       "      <th>3</th>\n",
       "      <td>deborah57@shaffer-reed.org</td>\n",
       "      <td>facebook</td>\n",
       "      <td>1</td>\n",
       "      <td>1979-03-05 21:08:54</td>\n",
       "      <td>1989-06-20 13:28:57</td>\n",
       "      <td>1979-03-05</td>\n",
       "    </tr>\n",
       "    <tr>\n",
       "      <th>4</th>\n",
       "      <td>asmith@henderson-hill.com</td>\n",
       "      <td>facebook</td>\n",
       "      <td>unknown</td>\n",
       "      <td>1979-03-05 21:08:54</td>\n",
       "      <td>1989-06-20 13:28:57</td>\n",
       "      <td>1979-03-05</td>\n",
       "    </tr>\n",
       "  </tbody>\n",
       "</table>\n",
       "</div>"
      ],
      "text/plain": [
       "                        email      code is_unsub          created_dt  \\\n",
       "0        lucassmith@yahoo.com    google  unknown 1983-08-26 06:02:03   \n",
       "1   misty66@walsh-hampton.biz    google  unknown 1983-08-26 06:02:03   \n",
       "2         daniel72@hudson.com    google  unknown 1983-08-26 06:02:03   \n",
       "3  deborah57@shaffer-reed.org  facebook        1 1979-03-05 21:08:54   \n",
       "4   asmith@henderson-hill.com  facebook  unknown 1979-03-05 21:08:54   \n",
       "\n",
       "           updated_dt    acquired  \n",
       "0 2015-12-27 09:28:02  1983-08-26  \n",
       "1 2015-12-27 09:28:02  1983-08-26  \n",
       "2 2015-12-27 09:28:02  1983-08-26  \n",
       "3 1989-06-20 13:28:57  1979-03-05  \n",
       "4 1989-06-20 13:28:57  1979-03-05  "
      ]
     },
     "execution_count": 61,
     "metadata": {},
     "output_type": "execute_result"
    }
   ],
   "source": [
    "df_q1.head()"
   ]
  },
  {
   "cell_type": "markdown",
   "metadata": {},
   "source": [
    "## Group values by date\n",
    "This section creates a dataframe with count values for each acquired date."
   ]
  },
  {
   "cell_type": "code",
   "execution_count": 62,
   "metadata": {},
   "outputs": [
    {
     "data": {
      "text/html": [
       "<div>\n",
       "<style scoped>\n",
       "    .dataframe tbody tr th:only-of-type {\n",
       "        vertical-align: middle;\n",
       "    }\n",
       "\n",
       "    .dataframe tbody tr th {\n",
       "        vertical-align: top;\n",
       "    }\n",
       "\n",
       "    .dataframe thead th {\n",
       "        text-align: right;\n",
       "    }\n",
       "</style>\n",
       "<table border=\"1\" class=\"dataframe\">\n",
       "  <thead>\n",
       "    <tr style=\"text-align: right;\">\n",
       "      <th></th>\n",
       "      <th>acquired</th>\n",
       "      <th>email</th>\n",
       "    </tr>\n",
       "  </thead>\n",
       "  <tbody>\n",
       "    <tr>\n",
       "      <th>0</th>\n",
       "      <td>1970-01-01</td>\n",
       "      <td>64</td>\n",
       "    </tr>\n",
       "    <tr>\n",
       "      <th>1</th>\n",
       "      <td>1970-01-02</td>\n",
       "      <td>64</td>\n",
       "    </tr>\n",
       "    <tr>\n",
       "      <th>2</th>\n",
       "      <td>1970-01-03</td>\n",
       "      <td>74</td>\n",
       "    </tr>\n",
       "    <tr>\n",
       "      <th>3</th>\n",
       "      <td>1970-01-04</td>\n",
       "      <td>83</td>\n",
       "    </tr>\n",
       "    <tr>\n",
       "      <th>4</th>\n",
       "      <td>1970-01-05</td>\n",
       "      <td>85</td>\n",
       "    </tr>\n",
       "  </tbody>\n",
       "</table>\n",
       "</div>"
      ],
      "text/plain": [
       "     acquired  email\n",
       "0  1970-01-01     64\n",
       "1  1970-01-02     64\n",
       "2  1970-01-03     74\n",
       "3  1970-01-04     83\n",
       "4  1970-01-05     85"
      ]
     },
     "execution_count": 62,
     "metadata": {},
     "output_type": "execute_result"
    }
   ],
   "source": [
    "group_var = ['acquired']\n",
    "\n",
    "df_q2 = (\n",
    "    df_q1\n",
    "    .groupby( group_var, as_index = True)\n",
    "    .count()\n",
    "    .sort_values(group_var, ascending = True)['email']\n",
    "    .reset_index()\n",
    ")\n",
    "\n",
    "\n",
    "df_q2.head()"
   ]
  },
  {
   "cell_type": "markdown",
   "metadata": {},
   "source": [
    "Note: date starts at Epoch time - likely reflects the fake data."
   ]
  },
  {
   "cell_type": "code",
   "execution_count": 63,
   "metadata": {
    "scrolled": true
   },
   "outputs": [
    {
     "name": "stdout",
     "output_type": "stream",
     "text": [
      "18445\n"
     ]
    }
   ],
   "source": [
    "print(len(df_q2))"
   ]
  },
  {
   "cell_type": "markdown",
   "metadata": {},
   "source": [
    "## Write to csv"
   ]
  },
  {
   "cell_type": "code",
   "execution_count": 64,
   "metadata": {},
   "outputs": [
    {
     "name": "stdout",
     "output_type": "stream",
     "text": [
      "Wrote dataframe to acquisition_facts.csv\n"
     ]
    }
   ],
   "source": [
    "file_name = \"acquisition_facts.csv\"\n",
    "\n",
    "df_q2.to_csv(\n",
    "    path_or_buf = file_name,\n",
    "    index = False\n",
    ")\n",
    "print(f\"Wrote dataframe to {file_name}\")"
   ]
  }
 ],
 "metadata": {
  "kernelspec": {
   "display_name": "Python 3",
   "language": "python",
   "name": "python3"
  },
  "language_info": {
   "codemirror_mode": {
    "name": "ipython",
    "version": 3
   },
   "file_extension": ".py",
   "mimetype": "text/x-python",
   "name": "python",
   "nbconvert_exporter": "python",
   "pygments_lexer": "ipython3",
   "version": "3.8.3"
  }
 },
 "nbformat": 4,
 "nbformat_minor": 4
}
